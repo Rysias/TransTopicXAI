{
 "cells": [
  {
   "cell_type": "markdown",
   "source": [
    "# Bringing it all together!\r\n",
    "This notebook is intended for bringing together the pipeline"
   ],
   "metadata": {}
  },
  {
   "cell_type": "code",
   "execution_count": 1,
   "source": [
    "import random\r\n",
    "import pickle\r\n",
    "import numpy as np\r\n",
    "import pandas as pd\r\n",
    "from sklearn.metrics.pairwise import cosine_similarity\r\n",
    "from umap import UMAP\r\n",
    "from bertopic import BERTopic\r\n",
    "from typing import List, Tuple, Union, Mapping, Any\r\n",
    "from pathlib import Path"
   ],
   "outputs": [],
   "metadata": {}
  },
  {
   "cell_type": "code",
   "execution_count": 11,
   "source": [
    "def weighted_mean(X, weights):\r\n",
    "    return np.dot(X.T, weights) / np.sum(weights)\r\n",
    "\r\n",
    "\r\n",
    "def get_unique_topics(topic_model):\r\n",
    "    topic_info = topic_model.get_topic_info()\r\n",
    "    return topic_info[\"Topic\"].unique()\r\n",
    "\r\n",
    "\r\n",
    "def get_topic_range(topic_model):\r\n",
    "    topic_info = topic_model.get_topic_info()\r\n",
    "    max_topic = np.max(topic_info[\"Topic\"])\r\n",
    "    return list(range(0, max_topic+1))\r\n",
    "    \r\n",
    "\r\n",
    "def find_centroid(embeddings: np.ndarray, topics: np.ndarray, probs: np.ndarray, target_topic: int):\r\n",
    "    \"\"\"\r\n",
    "    Arguments:\r\n",
    "        embeddings: 2d with dimensions (num_documents, num_dimensions)\r\n",
    "        topics: list of length num documents\r\n",
    "        probs: np.array of length num_documents showing the probability of the assigned topic\r\n",
    "        target_topic: the topic, we want to find the centroid for\r\n",
    "    returns: \r\n",
    "        The centroid for the cluster\r\n",
    "    \"\"\"\r\n",
    "    # Filtering the embeddings\r\n",
    "    filtered_embeddings = embeddings[topics == target_topic, :]\r\n",
    "    filtered_probs = probs[topics == target_topic]\r\n",
    "\r\n",
    "    # Calculating the centroid\r\n",
    "    return weighted_mean(filtered_embeddings, filtered_probs)\r\n",
    "\r\n",
    "def calc_cosine_sim(centroids, embedding):\r\n",
    "    \"\"\" \r\n",
    "    Calculates the cosine similarity between a single embedding and the centroids\r\n",
    "    \"\"\"\r\n",
    "    return cosine_similarity(centroids, embedding.reshape(1, -1))\r\n",
    "\r\n",
    "def read_pickle(file_path):\r\n",
    "    with open(file_path, \"rb\") as f:\r\n",
    "        return pickle.load(f)\r\n",
    "\r\n",
    "def flatten_embeddings(embedding_dict):\r\n",
    "    \"\"\" Creates a big matrix with all the embeddings from the dict \"\"\"\r\n",
    "    return np.vstack(embedding_dict.values())"
   ],
   "outputs": [],
   "metadata": {}
  },
  {
   "cell_type": "code",
   "execution_count": 3,
   "source": [
    "# Loading data\r\n",
    "DATA_DIR = Path(\"../../BscThesisData/data\")\r\n",
    "doc_topics = pd.read_csv(DATA_DIR / \"doc_topics.csv\")\r\n",
    "embeddings_dict = read_pickle(DATA_DIR / \"embedding_dict.pkl\")\r\n",
    "\r\n",
    "embeddings = flatten_embeddings(embeddings_dict)"
   ],
   "outputs": [],
   "metadata": {}
  },
  {
   "cell_type": "code",
   "execution_count": 4,
   "source": [
    "# Loading topic model\r\n",
    "MODEL_PATH = Path(\"../models/topic_model\")\r\n",
    "topic_model = BERTopic.load(str(MODEL_PATH), embedding_model=\"Maltehb/-l-ctra-danish-electra-small-cased\")"
   ],
   "outputs": [
    {
     "output_type": "stream",
     "name": "stderr",
     "text": [
      "WARNING:root:No sentence-transformers model found with name C:\\Users\\jhr/.cache\\torch\\sentence_transformers\\Maltehb_-l-ctra-danish-electra-small-cased. Creating a new one with MEAN pooling.\n",
      "Some weights of the model checkpoint at C:\\Users\\jhr/.cache\\torch\\sentence_transformers\\Maltehb_-l-ctra-danish-electra-small-cased were not used when initializing ElectraModel: ['generator.encoder.layer.11.output.LayerNorm.bias', 'discriminator_predictions.LayerNorm.weight', 'generator.encoder.layer.8.attention.self.query.bias', 'generator.encoder.layer.1.attention.self.query.bias', 'generator.encoder.layer.7.output.dense.weight', 'generator.encoder.layer.7.intermediate.dense.bias', 'generator.encoder.layer.1.attention.self.value.bias', 'generator.encoder.layer.10.intermediate.dense.bias', 'generator.encoder.layer.2.attention.self.key.bias', 'generator.encoder.layer.8.attention.output.LayerNorm.weight', 'generator.encoder.layer.4.attention.output.LayerNorm.bias', 'generator.encoder.layer.8.output.dense.weight', 'generator.encoder.layer.9.attention.self.key.bias', 'generator.encoder.layer.7.intermediate.dense.weight', 'generator.encoder.layer.6.attention.self.query.bias', 'generator.encoder.layer.2.output.dense.weight', 'generator.embeddings_project.bias', 'generator.encoder.layer.2.output.LayerNorm.bias', 'generator.encoder.layer.4.intermediate.dense.bias', 'generator.encoder.layer.6.attention.output.dense.bias', 'generator.encoder.layer.7.output.LayerNorm.bias', 'generator.encoder.layer.0.attention.output.dense.weight', 'generator.encoder.layer.2.intermediate.dense.weight', 'generator.encoder.layer.9.attention.self.key.weight', 'generator.encoder.layer.11.intermediate.dense.weight', 'generator.encoder.layer.0.attention.self.key.bias', 'generator.encoder.layer.1.attention.self.value.weight', 'generator.encoder.layer.4.attention.output.dense.bias', 'generator.encoder.layer.0.attention.self.query.weight', 'generator.embeddings.LayerNorm.weight', 'generator.encoder.layer.8.attention.self.query.weight', 'generator.encoder.layer.4.attention.output.LayerNorm.weight', 'generator.encoder.layer.5.intermediate.dense.bias', 'generator.encoder.layer.8.intermediate.dense.bias', 'generator.encoder.layer.0.attention.self.key.weight', 'generator.encoder.layer.6.output.LayerNorm.weight', 'generator.encoder.layer.9.output.dense.bias', 'generator.encoder.layer.2.output.LayerNorm.weight', 'generator.encoder.layer.9.attention.output.LayerNorm.weight', 'generator.encoder.layer.10.attention.self.query.bias', 'generator.encoder.layer.7.attention.self.key.weight', 'generator.encoder.layer.0.intermediate.dense.bias', 'discriminator_predictions.dense.bias', 'generator.embeddings.word_embeddings.weight', 'generator.encoder.layer.10.attention.output.LayerNorm.bias', 'generator.encoder.layer.3.output.dense.weight', 'generator.encoder.layer.9.attention.self.value.bias', 'generator.encoder.layer.3.attention.output.LayerNorm.bias', 'generator.encoder.layer.10.output.dense.weight', 'generator.encoder.layer.8.attention.output.dense.bias', 'generator.encoder.layer.5.attention.output.dense.bias', 'generator.encoder.layer.1.attention.output.dense.weight', 'generator.encoder.layer.5.attention.self.value.weight', 'generator.encoder.layer.8.attention.output.LayerNorm.bias', 'generator.encoder.layer.2.attention.self.query.bias', 'generator.encoder.layer.2.attention.output.LayerNorm.bias', 'generator.encoder.layer.2.attention.self.key.weight', 'generator.encoder.layer.4.output.LayerNorm.bias', 'discriminator_predictions.LayerNorm.bias', 'generator.encoder.layer.9.attention.self.value.weight', 'generator.encoder.layer.11.attention.self.value.weight', 'generator.encoder.layer.3.output.LayerNorm.weight', 'generator.encoder.layer.4.output.dense.bias', 'generator.encoder.layer.8.attention.output.dense.weight', 'generator.encoder.layer.3.attention.self.key.weight', 'generator.encoder.layer.10.attention.output.dense.weight', 'generator.encoder.layer.11.attention.self.query.weight', 'generator.encoder.layer.11.attention.self.value.bias', 'generator.encoder.layer.2.attention.self.value.bias', 'generator_predictions.bias', 'generator_predictions.dense.weight', 'generator.encoder.layer.5.attention.self.query.weight', 'generator.encoder.layer.11.intermediate.dense.bias', 'generator.encoder.layer.11.attention.output.LayerNorm.weight', 'generator.encoder.layer.5.intermediate.dense.weight', 'generator.encoder.layer.5.attention.self.value.bias', 'generator.encoder.layer.3.output.LayerNorm.bias', 'generator.encoder.layer.4.attention.self.value.weight', 'generator_predictions.LayerNorm.bias', 'generator.encoder.layer.6.attention.self.value.bias', 'generator.encoder.layer.7.attention.self.key.bias', 'generator.encoder.layer.10.attention.self.key.bias', 'generator.encoder.layer.2.attention.self.query.weight', 'generator.encoder.layer.6.attention.self.key.weight', 'generator.encoder.layer.6.output.dense.bias', 'generator.encoder.layer.1.intermediate.dense.bias', 'generator.encoder.layer.6.output.LayerNorm.bias', 'generator_predictions.LayerNorm.weight', 'generator.encoder.layer.8.attention.self.value.weight', 'generator.encoder.layer.8.output.LayerNorm.weight', 'generator.encoder.layer.6.attention.self.value.weight', 'generator.encoder.layer.5.output.dense.bias', 'generator.encoder.layer.9.attention.output.dense.bias', 'generator.encoder.layer.0.output.LayerNorm.bias', 'generator.encoder.layer.0.attention.self.value.weight', 'generator.encoder.layer.7.attention.self.value.bias', 'discriminator_predictions.classifier.bias', 'generator.encoder.layer.8.attention.self.value.bias', 'generator.encoder.layer.4.attention.self.query.weight', 'generator.encoder.layer.7.attention.self.query.weight', 'generator.encoder.layer.8.output.LayerNorm.bias', 'generator.encoder.layer.5.attention.output.LayerNorm.weight', 'generator.encoder.layer.2.intermediate.dense.bias', 'generator.encoder.layer.11.output.LayerNorm.weight', 'generator.encoder.layer.5.attention.self.query.bias', 'generator.encoder.layer.0.attention.self.value.bias', 'generator.encoder.layer.0.attention.output.dense.bias', 'generator.encoder.layer.1.attention.self.key.bias', 'generator.encoder.layer.0.attention.self.query.bias', 'generator.encoder.layer.11.attention.output.dense.bias', 'generator.encoder.layer.1.output.dense.bias', 'generator.encoder.layer.3.intermediate.dense.bias', 'generator.embeddings_project.weight', 'generator.encoder.layer.7.attention.output.dense.bias', 'generator.encoder.layer.3.attention.self.key.bias', 'generator_predictions.dense.bias', 'generator.encoder.layer.2.attention.output.LayerNorm.weight', 'generator.encoder.layer.7.attention.self.query.bias', 'generator.encoder.layer.3.attention.self.query.weight', 'discriminator_predictions.dense.weight', 'generator.encoder.layer.4.attention.self.key.bias', 'generator.encoder.layer.4.attention.self.key.weight', 'generator.encoder.layer.7.attention.output.LayerNorm.bias', 'generator.encoder.layer.9.intermediate.dense.weight', 'generator.encoder.layer.5.output.dense.weight', 'generator.encoder.layer.4.output.dense.weight', 'generator.encoder.layer.2.attention.output.dense.bias', 'generator.encoder.layer.1.attention.output.LayerNorm.bias', 'generator.encoder.layer.1.attention.output.dense.bias', 'generator_predictions.decoder.weight', 'generator.encoder.layer.11.attention.output.dense.weight', 'generator.encoder.layer.10.attention.output.LayerNorm.weight', 'generator.encoder.layer.1.output.LayerNorm.bias', 'generator.encoder.layer.7.attention.output.LayerNorm.weight', 'generator.encoder.layer.3.output.dense.bias', 'generator.encoder.layer.6.attention.self.query.weight', 'generator.encoder.layer.9.output.LayerNorm.weight', 'generator.embeddings.position_embeddings.weight', 'generator.encoder.layer.1.attention.self.key.weight', 'generator.encoder.layer.1.output.dense.weight', 'generator.encoder.layer.11.attention.self.key.weight', 'generator.embeddings.token_type_embeddings.weight', 'generator.encoder.layer.10.attention.self.key.weight', 'generator.encoder.layer.7.output.dense.bias', 'generator.encoder.layer.7.output.LayerNorm.weight', 'generator.encoder.layer.4.attention.output.dense.weight', 'generator.embeddings.LayerNorm.bias', 'generator.encoder.layer.9.output.LayerNorm.bias', 'generator.encoder.layer.0.output.LayerNorm.weight', 'generator.encoder.layer.4.attention.self.value.bias', 'generator.encoder.layer.1.attention.output.LayerNorm.weight', 'generator.encoder.layer.9.attention.output.dense.weight', 'generator.encoder.layer.3.attention.self.query.bias', 'generator.encoder.layer.9.attention.output.LayerNorm.bias', 'generator.encoder.layer.11.output.dense.weight', 'generator.encoder.layer.3.attention.output.dense.bias', 'generator.encoder.layer.3.attention.self.value.weight', 'generator.encoder.layer.11.attention.self.key.bias', 'generator.encoder.layer.6.attention.output.dense.weight', 'generator.encoder.layer.0.output.dense.weight', 'generator.encoder.layer.6.intermediate.dense.weight', 'generator.encoder.layer.5.output.LayerNorm.weight', 'generator.encoder.layer.10.attention.self.query.weight', 'generator.encoder.layer.5.attention.self.key.weight', 'generator.encoder.layer.2.output.dense.bias', 'generator.encoder.layer.2.attention.output.dense.weight', 'generator.encoder.layer.6.attention.output.LayerNorm.weight', 'generator.encoder.layer.8.attention.self.key.bias', 'generator.encoder.layer.6.intermediate.dense.bias', 'generator.encoder.layer.1.intermediate.dense.weight', 'generator.encoder.layer.5.attention.self.key.bias', 'generator.encoder.layer.9.output.dense.weight', 'generator.encoder.layer.9.intermediate.dense.bias', 'generator.encoder.layer.8.attention.self.key.weight', 'generator.encoder.layer.6.output.dense.weight', 'generator.encoder.layer.3.attention.output.LayerNorm.weight', 'generator.encoder.layer.2.attention.self.value.weight', 'discriminator_predictions.classifier.weight', 'generator.encoder.layer.5.output.LayerNorm.bias', 'generator.encoder.layer.1.attention.self.query.weight', 'generator.encoder.layer.6.attention.self.key.bias', 'generator.encoder.layer.4.intermediate.dense.weight', 'generator.encoder.layer.10.output.LayerNorm.weight', 'generator.encoder.layer.10.output.LayerNorm.bias', 'generator.encoder.layer.0.intermediate.dense.weight', 'generator.encoder.layer.6.attention.output.LayerNorm.bias', 'generator.encoder.layer.1.output.LayerNorm.weight', 'generator.encoder.layer.7.attention.self.value.weight', 'generator.encoder.layer.0.attention.output.LayerNorm.weight', 'generator.encoder.layer.7.attention.output.dense.weight', 'generator.encoder.layer.10.attention.self.value.weight', 'generator.encoder.layer.0.attention.output.LayerNorm.bias', 'generator.encoder.layer.10.attention.output.dense.bias', 'generator.encoder.layer.0.output.dense.bias', 'generator.encoder.layer.9.attention.self.query.bias', 'generator.encoder.layer.5.attention.output.dense.weight', 'generator_predictions.decoder.bias', 'generator.encoder.layer.11.attention.output.LayerNorm.bias', 'generator.encoder.layer.11.output.dense.bias', 'generator.encoder.layer.3.attention.output.dense.weight', 'generator.encoder.layer.3.intermediate.dense.weight', 'generator.encoder.layer.3.attention.self.value.bias', 'generator.encoder.layer.8.intermediate.dense.weight', 'generator.encoder.layer.10.output.dense.bias', 'generator.encoder.layer.9.attention.self.query.weight', 'generator.encoder.layer.8.output.dense.bias', 'generator.encoder.layer.4.attention.self.query.bias', 'generator.encoder.layer.5.attention.output.LayerNorm.bias', 'generator.encoder.layer.10.attention.self.value.bias', 'generator.encoder.layer.11.attention.self.query.bias', 'generator.encoder.layer.10.intermediate.dense.weight', 'generator.encoder.layer.4.output.LayerNorm.weight']\n",
      "- This IS expected if you are initializing ElectraModel from the checkpoint of a model trained on another task or with another architecture (e.g. initializing a BertForSequenceClassification model from a BertForPreTraining model).\n",
      "- This IS NOT expected if you are initializing ElectraModel from the checkpoint of a model that you expect to be exactly identical (initializing a BertForSequenceClassification model from a BertForSequenceClassification model).\n"
     ]
    }
   ],
   "metadata": {}
  },
  {
   "cell_type": "code",
   "execution_count": 7,
   "source": [
    "topics = doc_topics[\"topic\"].values\r\n",
    "probs = doc_topics[\"prob\"].values"
   ],
   "outputs": [],
   "metadata": {}
  },
  {
   "cell_type": "code",
   "execution_count": 17,
   "source": [
    "unique_topics = get_topic_range(topic_model)\r\n",
    "centroids = np.zeros((len(unique_topics),embeddings.shape[1])) # Centroids need dimensions (number of topics, embedding-dimensionality)\r\n",
    "for i in unique_topics:\r\n",
    "    centroids[i, :] += find_centroid(embeddings, topics, probs, i)"
   ],
   "outputs": [],
   "metadata": {}
  },
  {
   "cell_type": "code",
   "execution_count": 18,
   "source": [
    "centroids.shape"
   ],
   "outputs": [
    {
     "output_type": "execute_result",
     "data": {
      "text/plain": [
       "(5, 256)"
      ]
     },
     "metadata": {},
     "execution_count": 18
    }
   ],
   "metadata": {}
  },
  {
   "cell_type": "markdown",
   "source": [
    "### Pipeline for calculating features\r\n",
    "1. Calculate centroids\r\n",
    "2. Calculate paragraph-centroid similarity for each paragraph (in embedding_dict)\r\n",
    "3. average the similarities "
   ],
   "metadata": {}
  },
  {
   "cell_type": "code",
   "execution_count": null,
   "source": [],
   "outputs": [],
   "metadata": {}
  }
 ],
 "metadata": {
  "orig_nbformat": 4,
  "language_info": {
   "name": "python",
   "version": "3.8.11",
   "mimetype": "text/x-python",
   "codemirror_mode": {
    "name": "ipython",
    "version": 3
   },
   "pygments_lexer": "ipython3",
   "nbconvert_exporter": "python",
   "file_extension": ".py"
  },
  "kernelspec": {
   "name": "python3",
   "display_name": "Python 3.8.11 64-bit ('bertopic_explore': conda)"
  },
  "interpreter": {
   "hash": "d6f86e4359b2b5cf5d398b363c816bb50d8f4fd2c9e9291492e7c9219700f63c"
  }
 },
 "nbformat": 4,
 "nbformat_minor": 2
}