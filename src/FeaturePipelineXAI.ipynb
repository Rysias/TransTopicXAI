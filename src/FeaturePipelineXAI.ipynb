{
 "cells": [
  {
   "cell_type": "markdown",
   "source": [
    "# Bringing it all together!\r\n",
    "This notebook is intended for bringing together the pipeline"
   ],
   "metadata": {}
  },
  {
   "cell_type": "code",
   "execution_count": 6,
   "source": [
    "import random\r\n",
    "import numpy as np\r\n",
    "import pandas as pd\r\n",
    "from sklearn.metrics.pairwise import cosine_similarity\r\n",
    "from umap import UMAP\r\n",
    "from bertopic import BERTopic\r\n",
    "from typing import List, Tuple, Union, Mapping, Any\r\n",
    "from pathlib import Path"
   ],
   "outputs": [],
   "metadata": {}
  },
  {
   "cell_type": "code",
   "execution_count": 2,
   "source": [
    "def weighted_mean(X, weights):\r\n",
    "    return np.dot(X.T, weights) / np.sum(weights)\r\n",
    "\r\n",
    "\r\n",
    "def get_unique_topics(topic_model):\r\n",
    "    topic_info = topic_model.get_topic_info()\r\n",
    "    return topic_info[\"Topic\"].unique()\r\n",
    "\r\n",
    "\r\n",
    "def find_centroid(embeddings: np.ndarray, topics: np.ndarray, probs: np.ndarray, target_topic: int):\r\n",
    "    \"\"\"\r\n",
    "    Arguments:\r\n",
    "        embeddings: 2d with dimensions (num_documents, num_dimensions)\r\n",
    "        topics: list of length num documents\r\n",
    "        probs: np.array of length num_documents showing the probability of the assigned topic\r\n",
    "        target_topic: the topic, we want to find the centroid for\r\n",
    "    returns: \r\n",
    "        The centroid for the cluster\r\n",
    "    \"\"\"\r\n",
    "    # Filtering the embeddings\r\n",
    "    filtered_embeddings = embeddings[topics == target_topic, :]\r\n",
    "    filtered_probs = probs[topics == target_topic]\r\n",
    "\r\n",
    "    # Calculating the centroid\r\n",
    "    return weighted_mean(filtered_embeddings, filtered_probs)\r\n",
    "\r\n",
    "def calc_cosine_sim(centroids, embedding):\r\n",
    "    \"\"\" \r\n",
    "    Calculates the cosine similarity between a single embedding and the centroids\r\n",
    "    \"\"\"\r\n",
    "    return cosine_similarity(centroids, embedding.reshape(1, -1))\r\n"
   ],
   "outputs": [],
   "metadata": {}
  },
  {
   "cell_type": "code",
   "execution_count": 7,
   "source": [
    "# Loading topic model\r\n",
    "MODEL_PATH = Path(\"../models/topic_model\")\r\n",
    "topic_model = BERTopic.load(str(MODEL_PATH), embedding_model=\"Maltehb/-l-ctra-danish-electra-small-cased\")"
   ],
   "outputs": [
    {
     "output_type": "error",
     "ename": "FileNotFoundError",
     "evalue": "[Errno 2] No such file or directory: '..\\\\models\\\\topic_model'",
     "traceback": [
      "\u001b[1;31m---------------------------------------------------------------------------\u001b[0m",
      "\u001b[1;31mFileNotFoundError\u001b[0m                         Traceback (most recent call last)",
      "\u001b[1;32m~\\AppData\\Local\\Temp/ipykernel_9544/2821975558.py\u001b[0m in \u001b[0;36m<module>\u001b[1;34m\u001b[0m\n\u001b[0;32m      1\u001b[0m \u001b[1;31m# Loading topic model\u001b[0m\u001b[1;33m\u001b[0m\u001b[1;33m\u001b[0m\u001b[1;33m\u001b[0m\u001b[0m\n\u001b[0;32m      2\u001b[0m \u001b[0mMODEL_PATH\u001b[0m \u001b[1;33m=\u001b[0m \u001b[0mPath\u001b[0m\u001b[1;33m(\u001b[0m\u001b[1;34m\"../models/topic_model\"\u001b[0m\u001b[1;33m)\u001b[0m\u001b[1;33m\u001b[0m\u001b[1;33m\u001b[0m\u001b[0m\n\u001b[1;32m----> 3\u001b[1;33m \u001b[0mtopic_model\u001b[0m \u001b[1;33m=\u001b[0m \u001b[0mBERTopic\u001b[0m\u001b[1;33m.\u001b[0m\u001b[0mload\u001b[0m\u001b[1;33m(\u001b[0m\u001b[0mstr\u001b[0m\u001b[1;33m(\u001b[0m\u001b[0mMODEL_PATH\u001b[0m\u001b[1;33m)\u001b[0m\u001b[1;33m,\u001b[0m \u001b[0membedding_model\u001b[0m\u001b[1;33m=\u001b[0m\u001b[1;34m\"Maltehb/-l-ctra-danish-electra-small-cased\"\u001b[0m\u001b[1;33m)\u001b[0m\u001b[1;33m\u001b[0m\u001b[1;33m\u001b[0m\u001b[0m\n\u001b[0m",
      "\u001b[1;32m~\\Anaconda3\\envs\\bertopic_explore\\lib\\site-packages\\bertopic\\_bertopic.py\u001b[0m in \u001b[0;36mload\u001b[1;34m(cls, path, embedding_model)\u001b[0m\n\u001b[0;32m   1277\u001b[0m         \u001b[0;31m`\u001b[0m\u001b[0;31m`\u001b[0m\u001b[0;31m`\u001b[0m\u001b[1;33m\u001b[0m\u001b[1;33m\u001b[0m\u001b[0m\n\u001b[0;32m   1278\u001b[0m         \"\"\"\n\u001b[1;32m-> 1279\u001b[1;33m         \u001b[1;32mwith\u001b[0m \u001b[0mopen\u001b[0m\u001b[1;33m(\u001b[0m\u001b[0mpath\u001b[0m\u001b[1;33m,\u001b[0m \u001b[1;34m'rb'\u001b[0m\u001b[1;33m)\u001b[0m \u001b[1;32mas\u001b[0m \u001b[0mfile\u001b[0m\u001b[1;33m:\u001b[0m\u001b[1;33m\u001b[0m\u001b[1;33m\u001b[0m\u001b[0m\n\u001b[0m\u001b[0;32m   1280\u001b[0m             \u001b[1;32mif\u001b[0m \u001b[0membedding_model\u001b[0m\u001b[1;33m:\u001b[0m\u001b[1;33m\u001b[0m\u001b[1;33m\u001b[0m\u001b[0m\n\u001b[0;32m   1281\u001b[0m                 \u001b[0mtopic_model\u001b[0m \u001b[1;33m=\u001b[0m \u001b[0mjoblib\u001b[0m\u001b[1;33m.\u001b[0m\u001b[0mload\u001b[0m\u001b[1;33m(\u001b[0m\u001b[0mfile\u001b[0m\u001b[1;33m)\u001b[0m\u001b[1;33m\u001b[0m\u001b[1;33m\u001b[0m\u001b[0m\n",
      "\u001b[1;31mFileNotFoundError\u001b[0m: [Errno 2] No such file or directory: '..\\\\models\\\\topic_model'"
     ]
    }
   ],
   "metadata": {}
  },
  {
   "cell_type": "code",
   "execution_count": null,
   "source": [],
   "outputs": [],
   "metadata": {}
  }
 ],
 "metadata": {
  "orig_nbformat": 4,
  "language_info": {
   "name": "python",
   "version": "3.8.11",
   "mimetype": "text/x-python",
   "codemirror_mode": {
    "name": "ipython",
    "version": 3
   },
   "pygments_lexer": "ipython3",
   "nbconvert_exporter": "python",
   "file_extension": ".py"
  },
  "kernelspec": {
   "name": "python3",
   "display_name": "Python 3.8.11 64-bit ('bertopic_explore': conda)"
  },
  "interpreter": {
   "hash": "d6f86e4359b2b5cf5d398b363c816bb50d8f4fd2c9e9291492e7c9219700f63c"
  }
 },
 "nbformat": 4,
 "nbformat_minor": 2
}