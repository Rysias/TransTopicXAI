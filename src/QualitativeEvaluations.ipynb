{
 "cells": [
  {
   "cell_type": "markdown",
   "source": [
    "# Qualitatitive topic evaluations\r\n",
    "This notebook is used for formatting the data for qualitative evaluations. This includes: \r\n",
    "- Inspecting the topic words\r\n",
    "- Inspecting representative documents\r\n",
    "- Coming up with good \"titles\" for the topics"
   ],
   "metadata": {}
  },
  {
   "cell_type": "code",
   "execution_count": 34,
   "source": [
    "import pickle\r\n",
    "import numpy as np\r\n",
    "import pandas as pd\r\n",
    "from pathlib import Path"
   ],
   "outputs": [],
   "metadata": {}
  },
  {
   "cell_type": "code",
   "execution_count": 35,
   "source": [
    "def read_pickle(file_path):\r\n",
    "    with open(file_path, \"rb\") as f:\r\n",
    "        return pickle.load(f)"
   ],
   "outputs": [],
   "metadata": {}
  },
  {
   "cell_type": "code",
   "execution_count": 38,
   "source": [
    "DATA_DIR = Path(\"../../BscThesisData/data\")\r\n",
    "topic_dict = read_pickle(DATA_DIR / \"topic_dict.pkl\")\r\n",
    "doc_topics = pd.read_csv(DATA_DIR / \"doc_topics.csv\")\r\n",
    "\r\n",
    "doc_topics.dropna(inplace=True)\r\n",
    "doc_topics"
   ],
   "outputs": [
    {
     "output_type": "execute_result",
     "data": {
      "text/html": [
       "<div>\n",
       "<style scoped>\n",
       "    .dataframe tbody tr th:only-of-type {\n",
       "        vertical-align: middle;\n",
       "    }\n",
       "\n",
       "    .dataframe tbody tr th {\n",
       "        vertical-align: top;\n",
       "    }\n",
       "\n",
       "    .dataframe thead th {\n",
       "        text-align: right;\n",
       "    }\n",
       "</style>\n",
       "<table border=\"1\" class=\"dataframe\">\n",
       "  <thead>\n",
       "    <tr style=\"text-align: right;\">\n",
       "      <th></th>\n",
       "      <th>topic</th>\n",
       "      <th>prob</th>\n",
       "      <th>doc</th>\n",
       "    </tr>\n",
       "  </thead>\n",
       "  <tbody>\n",
       "    <tr>\n",
       "      <th>0</th>\n",
       "      <td>-1</td>\n",
       "      <td>0.000000</td>\n",
       "      <td>Sagen angik en skønsmæssig forhøjelse af sagsø...</td>\n",
       "    </tr>\n",
       "    <tr>\n",
       "      <th>1</th>\n",
       "      <td>-1</td>\n",
       "      <td>0.426102</td>\n",
       "      <td>Retten fandt det ikke godtgjort, at sagsøgeren...</td>\n",
       "    </tr>\n",
       "    <tr>\n",
       "      <th>2</th>\n",
       "      <td>1</td>\n",
       "      <td>1.000000</td>\n",
       "      <td>Retten fandt det heller ikke godtgjort, at SKA...</td>\n",
       "    </tr>\n",
       "    <tr>\n",
       "      <th>3</th>\n",
       "      <td>2</td>\n",
       "      <td>1.000000</td>\n",
       "      <td>Endelig fandt retten det ikke godtgjort, at en...</td>\n",
       "    </tr>\n",
       "    <tr>\n",
       "      <th>4</th>\n",
       "      <td>0</td>\n",
       "      <td>1.000000</td>\n",
       "      <td>Koncern med datterselskaber, hvis virksomhed b...</td>\n",
       "    </tr>\n",
       "    <tr>\n",
       "      <th>...</th>\n",
       "      <td>...</td>\n",
       "      <td>...</td>\n",
       "      <td>...</td>\n",
       "    </tr>\n",
       "    <tr>\n",
       "      <th>21143</th>\n",
       "      <td>0</td>\n",
       "      <td>1.000000</td>\n",
       "      <td>Skatterådet bekræfter at fysiske personers inv...</td>\n",
       "    </tr>\n",
       "    <tr>\n",
       "      <th>21144</th>\n",
       "      <td>0</td>\n",
       "      <td>0.854367</td>\n",
       "      <td>Skatterådet kunne ikke bekræfte, at spørger ku...</td>\n",
       "    </tr>\n",
       "    <tr>\n",
       "      <th>21145</th>\n",
       "      <td>-1</td>\n",
       "      <td>0.984996</td>\n",
       "      <td>Skatterådet kunne endvidere ikke bekræfte, at ...</td>\n",
       "    </tr>\n",
       "    <tr>\n",
       "      <th>21146</th>\n",
       "      <td>-1</td>\n",
       "      <td>0.000000</td>\n",
       "      <td>Skatterådet kunne bekræfte, at spørger alene s...</td>\n",
       "    </tr>\n",
       "    <tr>\n",
       "      <th>21147</th>\n",
       "      <td>0</td>\n",
       "      <td>0.977914</td>\n",
       "      <td>Skatterådet bekræfter at B p.l.c. er at anse f...</td>\n",
       "    </tr>\n",
       "  </tbody>\n",
       "</table>\n",
       "<p>21148 rows × 3 columns</p>\n",
       "</div>"
      ],
      "text/plain": [
       "       topic      prob                                                doc\n",
       "0         -1  0.000000  Sagen angik en skønsmæssig forhøjelse af sagsø...\n",
       "1         -1  0.426102  Retten fandt det ikke godtgjort, at sagsøgeren...\n",
       "2          1  1.000000  Retten fandt det heller ikke godtgjort, at SKA...\n",
       "3          2  1.000000  Endelig fandt retten det ikke godtgjort, at en...\n",
       "4          0  1.000000  Koncern med datterselskaber, hvis virksomhed b...\n",
       "...      ...       ...                                                ...\n",
       "21143      0  1.000000  Skatterådet bekræfter at fysiske personers inv...\n",
       "21144      0  0.854367  Skatterådet kunne ikke bekræfte, at spørger ku...\n",
       "21145     -1  0.984996  Skatterådet kunne endvidere ikke bekræfte, at ...\n",
       "21146     -1  0.000000  Skatterådet kunne bekræfte, at spørger alene s...\n",
       "21147      0  0.977914  Skatterådet bekræfter at B p.l.c. er at anse f...\n",
       "\n",
       "[21148 rows x 3 columns]"
      ]
     },
     "metadata": {},
     "execution_count": 38
    }
   ],
   "metadata": {}
  },
  {
   "cell_type": "code",
   "execution_count": 39,
   "source": [
    "for topic_key in topic_dict.keys():\r\n",
    "    doc_subset = doc_topics.loc[doc_topics[\"topic\"] == topic_key]\r\n",
    "    example_docs = doc_subset[\"doc\"].sample(5, weights=doc_subset[\"prob\"])\r\n",
    "    print(f\"Results for topic nr. {topic_key}:\")\r\n",
    "    print(f\"word list: {topic_dict[topic_key]}\")\r\n",
    "    print(\"representative documents:\")\r\n",
    "    for doc in example_docs.tolist():\r\n",
    "        print(doc)\r\n",
    "    print(\"\\n\")"
   ],
   "outputs": [
    {
     "output_type": "stream",
     "name": "stdout",
     "text": [
      "Results for topic nr. 0:\n",
      "word list: ['skatterådet', 'spørger', 'bekræfte', 'stk', 'bekræfter', 'spørgers', 'anses', 'danmark', 'nr', 'jf', 'momslovens', 'omfattet', 'salg', 'virksomhed', 'moms', 'fast', 'bekræftede', 'selskab', '13', 'forbindelse', 'ejendom', 'tale', 'endvidere', 'danske', 'dansk', 'ligningslovens', 'selskabsskattelovens', 'skat', 'del', 'finder']\n",
      "representative documents:\n",
      "Et påtænkt selskab blev anset for et investeringsselskab efter aktieavancebeskatningslovens § 19, stk. 2, nr. 2.\n",
      "Spørgeren påtænker, at indgå en serviceaftale om drift, rengøring og pleje af en nyopført bygnings facader. Spørger vil ikke selv udføre opgaverne, men udlicitere dem til en anden virksomhed.\n",
      "Skatterådet bekræfter, at der skal betales afgift af lystfartøjsforsikring, når en dansk ejer af en lystbåd under nærmere beskrevne vilkår overdrager en andel af båden til et selskab (A) i EU-land X. A foretager en registrering af båden i det pågældende land, og tegner forsikring af båden. Skatterådet finder ud fra de nærmere beskrevne vilkår ikke, at der sker reel overdragelse af ejerandele. Endvidere udtales det, at lystfartøjer ikke kan blive omfattet af gældende praksis vedrørende udenlandsk ejede lystfartøjer ved overdragelse af en ejerandel på 3 %. Skatterådet bekræfter, at afgiftskravet påhviler forsikringsselskabet, der tegner forsikringen. Skatterådet afkræfter, at afgiftskravet påhviler den danske ejer eller det udenlandske selskab A. Skatterådet bekræfter endvidere, at det medfører indkomstbeskatning i Danmark af fri båd til rådighed, når en dansk ejer overdrager en ejerandel af sin båd til et selskab i land X, men alligevel har fuld rådighed over båden uden betaling af leje herfor.\n",
      "Skatterådet bekræfter, at en andelsforening ikke skal betale moms ved salg af et grundstykke.\n",
      "Skatterådet kunne ikke bekræfte, at samarbejdsaftalen mellem A ApS og B UAB ikke medfører, at B UAB etablerer fast driftssted i Danmark efter selskabsskattelovens § 2, stk. 1, litra a.\n",
      "\n",
      "\n",
      "Results for topic nr. 1:\n",
      "word list: ['retten', 'fandt', 'landsretten', 'grundlag', 'sagsøgeren', 'godtgjort', 'påstand', 'skatteministeriet', 'byretten', 'skatteyderen', 'sagen', 'baggrund', 'skat', 'følge', 'tog', 'skøn', 'landsskatteretten', 'resultat', 'afgørelse', 'frifundet', 'endvidere', 'gældende', 'sagsøgerens', 'idet', 'skats', 'medhold', 'grund', 'tilsidesætte', 'forkert', 'fradrag']\n",
      "representative documents:\n",
      "Sagsøgeren gjorde gældende, at hun i perioden havde været bosiddende i Tyskland, og at bilen derfor med rette var registreret der.\n",
      "Retten fandt det godtgjort, at der var foretaget et skøn over ejendoms- og grundværdien.\n",
      "Landsskatterettens kendelser i de såkaldte kirkeskattesager havde efter landsrettens opfattelse ikke relevans for bedømmelsen af nærværende sag.\n",
      "Sagsøgeren skulle derfor beskattes af værdien af fri sommerbolig, og Skatteministeriet blev derfor frifundet.\n",
      "For så vidt angik indkomståret 2011, hjemviste landsretten skatteansættelsen til fornyet behandling ved Skattestyrelsen.\n",
      "\n",
      "\n",
      "Results for topic nr. 2:\n",
      "word list: ['retten', 'fandt', 'sagsøgeren', 'grundlag', 'godtgjort', 'landsretten', 'skatteyderen', 'lagde', 'vægt', 'selskabet', 'byretten', 'skøn', 'sagsøgerens', 'grund', 'oplysninger', 'endvidere', 'måtte', 'forhold', 'gældende', 'resultat', 'åbenbart', 'bl', 'skat', 'forkert', 'løftet', 'sagen', 'bilen', 'appellanten', 'føre', 'skattemyndighederne']\n",
      "representative documents:\n",
      "Retten fandt, at skatteyderen ikke ved den fremlagte geotekniske erklæring eller på anden måde havde dokumenteret, at der har været behov for en ekstrafundering, ligesom skatteyderen ikke havde dokumenteret, hvilke funderingsarbejder, der konkret har været udført.\n",
      "Retten fandt ikke, at sagsøgeren ved de fremlagte gældsbreve havde bevist, at beløbet var tilvejebragt gennem lån eller gaver fra sagsøgerens mor eller samlevers mor. Retten bemærkede bl.a., at sagsøgeren først ved sin klage til Landsskatteretten havde oplyst om lånene. Der var ikke dokumentation i form af kontoudtog eller liggende for, at sagsøgeren havde modtaget beløbene, og långiverne kunne - henset til det oplyste om deres økonomiske forhold - ikke ved deres forklaring alene godtgøre, at de hver især havde opsparet kontantbeløb opbevaret i hjemmet.\n",
      "Endvidere fandt landsretten, at et efterfølgende rekonstrueret og ufyldestgørende kørselsregnskab, som var udarbejdet af appellanten på baggrund af hans kalendernotater om møder mv. i Outlook, ikke godtgjorde, at bilen ikke var anvendt til privat kørsel. Landsretten fremhævede i den forbindelse, at appellanten havde kørt i bilen for en anden virksomhed end det tyske selskab, der som hans arbejdsgiver havde stillet bilen til rådighed for ham, hvilke kørsler måtte anses for at være arbejdsgiveren uvedkommende. Det kunne ikke føre til andet resultat, at SKAT i en korrespondance med appellantens direktørkollega om fritagelse for registreringsafgift efter reglerne om udenlandske firmabiler havde tilkendegivet, at bilen kunne anvendes til kørsel for andre virksomheder end det tyske selskab.\n",
      "Vedrørende skatteansættelsen udtalte landsretten, at hverken appellantens eller vidnets forklaringer havde karakter af nye oplysninger, der kunne give anledning til at ændre skatteansættelserne. Under de angivne omstændigheder, hvor indtægterne fra skrotsalg var fastlagt som sket, og hvor det var appellantens måde at drive virksomhed på, der havde skabt usikkerheden om de faktiske forhold i øvrigt, kunne heller ikke skattemyndighedernes manglende foretagelse at en privatforbrugsberegning føre til at anse revisorens skønsmæssige formue- og indkomstopgørelser for nye oplysninger, der kunne give anledning til at ændre skatteansættelsen. \n",
      "Det var i sagen ubestridt, at sagsøgeren havde angivet kr. 182.436 for lidt i salgsmoms, men sagsøgeren gjorde gældende, at den manglende angivelse beroede på en simpel fejl, og at der derfor ikke var grund­lag for ekstraordinær genoptagelse.\n",
      "\n",
      "\n",
      "Results for topic nr. 3:\n",
      "word list: ['stadfæstede', 'byrettens', 'dom', 'landsretten', 'br', 'skatteministeriet', 'byretsdommen', 'stadfæstet', 'frifindelse', 'landsrettens', 'resultat', 'højesteret', 'skm2015', 'dommen', 'medhold', 'fastsat', 'skm2017', 'vejledende', 'frifundet', 'stadfæstelse', 'nået', 'satserne', 'frifindende', 'baggrund', 'ølr', 'skm2016', 'skm2014', 'byretten', 'østre', '000']\n",
      "representative documents:\n",
      "Landsretten var enig i byrettens resultat og begrundelse og stadfæstede dommen.\n",
      "Byrettens dom blev derfor stadfæstet.\n",
      "Landsretten stadfæstede byretsdommen.\n",
      "Landsretten stadfæstede derfor byrettens dom. \n",
      "T udeblev fra retsmødet.\n",
      "\n",
      "\n",
      "Results for topic nr. 4:\n",
      "word list: ['frifundet', 'skatteministeriet', 'baggrund', 'hele', 'heraf', 'ministeriet', 'følge', 'skat', 'frifandt', 'dom', 'stadfæstet', 'indkomståret', 'byrettens', 'frifindelse', 'påstod', 'skatteministeriets', 'skatteministeret', 'medhold', '2005', '2007', 'arrest', 'ba', 'ii', 't4', 'følgelig', 'helhed', 'svares', 'nægtede', 'punkt', 't3']\n",
      "representative documents:\n",
      "Skatteministeriet blev derfor frifundet.\n",
      "Skatteministeriet blev derfor frifundet.\n",
      "Skatteministeriet blev derfor frifundet.\n",
      "Skatteministeriet blev på den baggrund frifundet.\n",
      "Skatteministeriet blev herefter frifundet.\n",
      "\n",
      "\n"
     ]
    }
   ],
   "metadata": {}
  },
  {
   "cell_type": "markdown",
   "source": [
    "### Something's rotten in the state of topic 1\r\n",
    "It seems to be empty"
   ],
   "metadata": {}
  },
  {
   "cell_type": "code",
   "execution_count": 32,
   "source": [
    "topic1 = doc_topics[doc_topics[\"topic\"] == 1]\r\n",
    "topic1[\"doc\"] = topic1[\"doc\"].str.strip().replace(\"\", np.nan)\r\n"
   ],
   "outputs": [
    {
     "output_type": "stream",
     "name": "stderr",
     "text": [
      "C:\\Users\\jhr\\AppData\\Local\\Temp/ipykernel_12376/2005448945.py:2: SettingWithCopyWarning: \n",
      "A value is trying to be set on a copy of a slice from a DataFrame.\n",
      "Try using .loc[row_indexer,col_indexer] = value instead\n",
      "\n",
      "See the caveats in the documentation: https://pandas.pydata.org/pandas-docs/stable/user_guide/indexing.html#returning-a-view-versus-a-copy\n",
      "  topic1[\"doc\"] = topic1[\"doc\"].str.strip().replace(\"\", np.nan)\n"
     ]
    },
    {
     "output_type": "execute_result",
     "data": {
      "text/html": [
       "<div>\n",
       "<style scoped>\n",
       "    .dataframe tbody tr th:only-of-type {\n",
       "        vertical-align: middle;\n",
       "    }\n",
       "\n",
       "    .dataframe tbody tr th {\n",
       "        vertical-align: top;\n",
       "    }\n",
       "\n",
       "    .dataframe thead th {\n",
       "        text-align: right;\n",
       "    }\n",
       "</style>\n",
       "<table border=\"1\" class=\"dataframe\">\n",
       "  <thead>\n",
       "    <tr style=\"text-align: right;\">\n",
       "      <th></th>\n",
       "      <th>topic</th>\n",
       "      <th>prob</th>\n",
       "      <th>doc</th>\n",
       "    </tr>\n",
       "  </thead>\n",
       "  <tbody>\n",
       "  </tbody>\n",
       "</table>\n",
       "</div>"
      ],
      "text/plain": [
       "Empty DataFrame\n",
       "Columns: [topic, prob, doc]\n",
       "Index: []"
      ]
     },
     "metadata": {},
     "execution_count": 32
    }
   ],
   "metadata": {}
  }
 ],
 "metadata": {
  "orig_nbformat": 4,
  "language_info": {
   "name": "python",
   "version": "3.8.11",
   "mimetype": "text/x-python",
   "codemirror_mode": {
    "name": "ipython",
    "version": 3
   },
   "pygments_lexer": "ipython3",
   "nbconvert_exporter": "python",
   "file_extension": ".py"
  },
  "kernelspec": {
   "name": "python3",
   "display_name": "Python 3.8.11 64-bit ('bertopic_explore': conda)"
  },
  "interpreter": {
   "hash": "d6f86e4359b2b5cf5d398b363c816bb50d8f4fd2c9e9291492e7c9219700f63c"
  }
 },
 "nbformat": 4,
 "nbformat_minor": 2
}