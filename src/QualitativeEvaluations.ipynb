{
 "cells": [
  {
   "cell_type": "markdown",
   "source": [
    "# Qualitatitive topic evaluations\r\n",
    "This notebook is used for formatting the data for qualitative evaluations. This includes: \r\n",
    "- Inspecting the topic words\r\n",
    "- Inspecting representative documents\r\n",
    "- Coming up with good \"titles\" for the topics"
   ],
   "metadata": {}
  },
  {
   "cell_type": "code",
   "execution_count": 21,
   "source": [
    "import pickle\r\n",
    "import numpy as np\r\n",
    "import pandas as pd\r\n",
    "from pathlib import Path\r\n",
    "from pprint import pprint"
   ],
   "outputs": [],
   "metadata": {}
  },
  {
   "cell_type": "code",
   "execution_count": 7,
   "source": [
    "def read_pickle(file_path):\r\n",
    "    with open(file_path, \"rb\") as f:\r\n",
    "        return pickle.load(f)"
   ],
   "outputs": [],
   "metadata": {}
  },
  {
   "cell_type": "code",
   "execution_count": 11,
   "source": [
    "DATA_DIR = Path(\"../../BscThesisData/data\")\r\n",
    "topic_dict = read_pickle(DATA_DIR / \"topic_dict.pkl\")\r\n",
    "doc_topics = pd.read_csv(DATA_DIR / \"doc_topics.csv\")\r\n",
    "\r\n",
    "doc_topics.dropna(inplace=True)\r\n"
   ],
   "outputs": [],
   "metadata": {}
  },
  {
   "cell_type": "code",
   "execution_count": 19,
   "source": [
    "for topic_key in topic_dict.keys():\r\n",
    "    example_docs = doc_topics.loc[doc_topics[\"topic\"] == topic_key, \"doc\"].sample(5)\r\n",
    "    print(f\"Results for topic nr. {topic_key}:\")\r\n",
    "    print(f\"word list: {topic_dict[topic_key]}\")\r\n",
    "    print(\"representative documents:\")\r\n",
    "    print(print(example_docs.tolist()))\r\n",
    "    print(\"\\n\")"
   ],
   "outputs": [
    {
     "output_type": "stream",
     "name": "stdout",
     "text": [
      "Results for topic nr. 0:\n",
      "word list: ['skatterådet', 'spørger', 'bekræfte', 'bekræfter', 'danmark', 'anses', 'spørgers', 'virksomhed', 'stk', 'omfattet', 'bekræftede', 'salg', 'moms', 'danske', 'selskab', 'fast', 'forbindelse', 'aps', 'skat', 'såfremt', 'finder', 'tale', 'ejendom', 'jf', 'skattepligtig', 'endvidere', 'beskattes', 'momslovens', 'del', 'dansk']\n",
      "representative documents:\n",
      "['Skatterådet bekræfter, at Selskab C kan \"slankes\" pr. 30. juni 2010, således at overført resultat før stiftelse af holdingselskabet den 17. december 2007 bliver udbetalt som skattefri udbytte til de 2 holdingselskaber ejet af Person A og Person B. Endvidere bekræftes det, at E ApS kan sælge sin andel af aktierne i Selskab C A/S, 50 % til F ApS skattefrit.', 'Gærede alkoholholdige produkter der som følge af en efterfølgende rensning og filtrering, fremstår som en farveløs og klar væske, der lugter af alkohol, skal\\ntariferes under KN pos. 2208, uanset hvor produktet oprindeligt var tariferet i KN. Såfremt produktet tariferes i pos. 2208, skal der afregnes punktafgift efter spiritusafgiftslovens\\n§ 1.', 'Skatterådet bekræfter at spørger kan foretage fradrag for småfornødenheder efter rejsereglerne ved arbejde om bord på en mobil borerig der ikke er fast forankret i undergrunden jf. LL §§ 9 A, stk. 7 og at fradragsmuligheden, hvor standardsatsen for kost anvendes, ikke ophører efter 12 måneder jf. LL §§ 9 A, stk. 5, 3. pkt.', 'Den omhandlede bygning skal anvendes af en offentlig myndighed. Den kommende OPP-leverandør vil mod betaling af et fastsat vederlag påtage sig det totaløkonomiske ansvar for den nye bygning omfattende finansiering, design, projektering, opførelse, forsyning, anlæg, bygningsvedligehold, bygningsdrift samt visse serviceydelser i en driftsperiode på 20 år. Den grund, hvorpå bygningen skal opføres, vil blive ejet af OPP-leverandøren. Den del af OPP-leverandørens ydelse, der udgør tilrådighedsstillelse af bygningen, er et lejeforhold omfattet af erhvervslejeloven i det omfang, denne lov ikke gyldigt er fraveget i aftalen.', 'Skatterådet henviste til sagsfremstillingen og begrundelse for besvarelse af, hvorvidt spørgers eksterne konsulenter skal multimediebeskattes.']\n",
      "None\n",
      "\n",
      "\n",
      "Results for topic nr. 1:\n",
      "word list: ['øvrige', 'frigivelse', 'friere', 'frifandt', 'frifandtes', 'frifindelse', 'frifindelsen', 'frifindelses', 'frifindelsespåstand', 'frifindelsespåstanden', 'frifindende', 'frifindes', 'frifundet', 'frigav', 'frigivelsen', 'frihedsstaffen', 'frigives', 'frigivet', 'frigjort', 'frigjorte', 'frigøre', 'frigørelse', 'frigørelsen', 'frigørelsesafgift', 'frigørelsesbeløb', 'frigørelsesbeløbet', 'frigøres', 'frihed', 'frie', 'friboligen']\n",
      "representative documents:\n",
      "[' ', ' ', ' ', ' ', ' ']\n",
      "None\n",
      "\n",
      "\n",
      "Results for topic nr. 2:\n",
      "word list: ['retten', 'fandt', 'sagsøgeren', 'grundlag', 'godtgjort', 'skatteyderen', 'landsretten', 'lagde', 'skøn', 'vægt', 'forkert', 'åbenbart', 'sagsøgerens', 'resultat', 'byretten', 'endvidere', 'grund', 'oplysninger', 'føre', 'urimeligt', 'løftet', 'selskabet', 'måtte', 'forhold', 'sagen', 'appellanten', 'gældende', 'skat', 'bl', 'skatteyderens']\n",
      "representative documents:\n",
      "['Det var ikke godtgjort, at SKATs skønsmæssige forhøjelse af omsætningen hvilede på et forkert grundlag eller var åbenbart urimelig. Skatteministeriet blev derfor frifundet.', 'Retten fandt det ikke godtgjort, at en række forskelligartede udgiftsposter vedrørende to selskaber, hvor sagsøgerne var hovedanpartshavere, var afholdt i selskabets interesse, og retten fandt herefter, at beløbene i stedet måtte anses for at være tilgået sagsøgerne som maskeret udlodning. ', 'Da den offentlige ejendomsvurdering ikke var retvisende, havde SKAT været berettiget til skønsmæssigt at ansætte ejendommens handelsværdi. Højesteret fandt, at der ikke af selskabet var godtgjort et grundlag for at tilsidesætte SKATs skøn over handelsværdien.', 'Det forhold, at en del af de økonomiske vanskeligheder skyldtes, at nogle betydelige debitorer havde standset betalingerne eller havde store økonomiske problemer og derfor ikke betalte gælden til selskabet, måtte anses som en erhvervsrisiko, der ikke fritog sagsøgeren fra ansvar.', 'På baggrund af sagens oplysninger og det af skatteyderen forklarede, lagde retten til grund, at skatteyderen havde haft sædvanlig bopæl i ...1. Derudover fandt retten, at der ikke påhvilede skatteyderen en skærpet bevisbyrde.']\n",
      "None\n",
      "\n",
      "\n",
      "Results for topic nr. 3:\n",
      "word list: ['frifundet', 'skatteministeriet', 'baggrund', 'hele', 'heraf', 'ministeriet', 'følge', 'skat', 'frifandt', 'dom', 'stadfæstet', 'indkomståret', 'byrettens', 'frifindelse', 'påstod', 'grunde', 'fejloprettet', 'angår', 'selskabet', 'vidt', 'frikendt', 'medhold', 'revideret', '2005', 'bk', '2007', 'ba', 'ii', 'retningslinjerne', 'udeblev']\n",
      "representative documents:\n",
      "['Skatteministeriet blev på denne baggrund frifundet.', 'Skatteministeriet blev derfor frifundet for så vidt angår dette punkt.', 'Skatteministeriet blev på denne baggrund frifundet.', 'Skatteministeriet blev herefter frifundet.', 'Skatteministeriet blev herefter frifundet']\n",
      "None\n",
      "\n",
      "\n",
      "Results for topic nr. 4:\n",
      "word list: ['stadfæstede', 'byrettens', 'dom', 'landsretten', 'br', 'skatteministeriet', 'stadfæstet', 'byretsdommen', 'frifindelse', 'skm2015', 'resultat', 'landsrettens', 'højesteret', 'stadfæstelse', 'skm2017', 'nået', 'frifundet', 'frifindende', 'ølr', 'frifandt', 'dommen', 'skm2016', 'skm2014', 'skm2013', 'østre', 'baggrund', 'byretten', 'landsret', 'enig', 'grundene']\n",
      "representative documents:\n",
      "['Med de ændringer stadfæstede landsretten dommen.', 'Landsretten stadfæstede derfor byrettens frifindende dom af Skatteministeriet (SKM2016.418.BR)', 'Landsretten stadfæstede dermed byrettens dom, jf. SKM2016.553.BR', 'Landsretten stadfæstede byretsdommen.', 'Landsrettens mindretal stemte for en stadfæstelse af byrettens dom.']\n",
      "None\n",
      "\n",
      "\n"
     ]
    }
   ],
   "metadata": {}
  },
  {
   "cell_type": "markdown",
   "source": [
    "### Something's rotten in the state of topic 1\r\n",
    "It seems to be empty"
   ],
   "metadata": {}
  },
  {
   "cell_type": "code",
   "execution_count": 32,
   "source": [
    "topic1 = doc_topics[doc_topics[\"topic\"] == 1]\r\n",
    "topic1[\"doc\"] = topic1[\"doc\"].str.strip().replace(\"\", np.nan)\r\n"
   ],
   "outputs": [
    {
     "output_type": "stream",
     "name": "stderr",
     "text": [
      "C:\\Users\\jhr\\AppData\\Local\\Temp/ipykernel_12376/2005448945.py:2: SettingWithCopyWarning: \n",
      "A value is trying to be set on a copy of a slice from a DataFrame.\n",
      "Try using .loc[row_indexer,col_indexer] = value instead\n",
      "\n",
      "See the caveats in the documentation: https://pandas.pydata.org/pandas-docs/stable/user_guide/indexing.html#returning-a-view-versus-a-copy\n",
      "  topic1[\"doc\"] = topic1[\"doc\"].str.strip().replace(\"\", np.nan)\n"
     ]
    },
    {
     "output_type": "execute_result",
     "data": {
      "text/html": [
       "<div>\n",
       "<style scoped>\n",
       "    .dataframe tbody tr th:only-of-type {\n",
       "        vertical-align: middle;\n",
       "    }\n",
       "\n",
       "    .dataframe tbody tr th {\n",
       "        vertical-align: top;\n",
       "    }\n",
       "\n",
       "    .dataframe thead th {\n",
       "        text-align: right;\n",
       "    }\n",
       "</style>\n",
       "<table border=\"1\" class=\"dataframe\">\n",
       "  <thead>\n",
       "    <tr style=\"text-align: right;\">\n",
       "      <th></th>\n",
       "      <th>topic</th>\n",
       "      <th>prob</th>\n",
       "      <th>doc</th>\n",
       "    </tr>\n",
       "  </thead>\n",
       "  <tbody>\n",
       "  </tbody>\n",
       "</table>\n",
       "</div>"
      ],
      "text/plain": [
       "Empty DataFrame\n",
       "Columns: [topic, prob, doc]\n",
       "Index: []"
      ]
     },
     "metadata": {},
     "execution_count": 32
    }
   ],
   "metadata": {}
  }
 ],
 "metadata": {
  "orig_nbformat": 4,
  "language_info": {
   "name": "python",
   "version": "3.8.11",
   "mimetype": "text/x-python",
   "codemirror_mode": {
    "name": "ipython",
    "version": 3
   },
   "pygments_lexer": "ipython3",
   "nbconvert_exporter": "python",
   "file_extension": ".py"
  },
  "kernelspec": {
   "name": "python3",
   "display_name": "Python 3.8.11 64-bit ('bertopic_explore': conda)"
  },
  "interpreter": {
   "hash": "d6f86e4359b2b5cf5d398b363c816bb50d8f4fd2c9e9291492e7c9219700f63c"
  }
 },
 "nbformat": 4,
 "nbformat_minor": 2
}