{
 "cells": [
  {
   "cell_type": "markdown",
   "source": [
    "# Qualitatitive topic evaluations\r\n",
    "This notebook is used for formatting the data for qualitative evaluations. This includes: \r\n",
    "- Inspecting the topic words\r\n",
    "- Inspecting representative documents\r\n",
    "- Coming up with good \"titles\" for the topics"
   ],
   "metadata": {}
  },
  {
   "cell_type": "code",
   "execution_count": 34,
   "source": [
    "import pickle\r\n",
    "import numpy as np\r\n",
    "import pandas as pd\r\n",
    "from pathlib import Path"
   ],
   "outputs": [],
   "metadata": {}
  },
  {
   "cell_type": "code",
   "execution_count": 35,
   "source": [
    "def read_pickle(file_path):\r\n",
    "    with open(file_path, \"rb\") as f:\r\n",
    "        return pickle.load(f)"
   ],
   "outputs": [],
   "metadata": {}
  },
  {
   "cell_type": "code",
   "execution_count": 36,
   "source": [
    "DATA_DIR = Path(\"../../BscThesisData/data\")\r\n",
    "topic_dict = read_pickle(DATA_DIR / \"topic_dict.pkl\")\r\n",
    "doc_topics = pd.read_csv(DATA_DIR / \"doc_topics.csv\")\r\n",
    "\r\n",
    "doc_topics.dropna(inplace=True)\r\n"
   ],
   "outputs": [],
   "metadata": {}
  },
  {
   "cell_type": "code",
   "execution_count": 37,
   "source": [
    "for topic_key in topic_dict.keys():\r\n",
    "    example_docs = doc_topics.loc[doc_topics[\"topic\"] == topic_key, \"doc\"].sample(5)\r\n",
    "    print(f\"Results for topic nr. {topic_key}:\")\r\n",
    "    print(f\"word list: {topic_dict[topic_key]}\")\r\n",
    "    print(\"representative documents:\")\r\n",
    "    for doc in example_docs.tolist():\r\n",
    "        print(doc)\r\n",
    "    print(\"\\n\")"
   ],
   "outputs": [
    {
     "output_type": "stream",
     "name": "stdout",
     "text": [
      "Results for topic nr. 0:\n",
      "word list: ['skatterådet', 'spørger', 'bekræfte', 'stk', 'bekræfter', 'spørgers', 'anses', 'danmark', 'nr', 'jf', 'momslovens', 'omfattet', 'salg', 'virksomhed', 'moms', 'fast', 'bekræftede', 'selskab', '13', 'forbindelse', 'ejendom', 'tale', 'endvidere', 'danske', 'dansk', 'ligningslovens', 'selskabsskattelovens', 'skat', 'del', 'finder']\n",
      "representative documents:\n",
      "Skatterådet kan ikke bekræfte, at sælger kan overdrage ejendommene til køberne uden at købesummen tillægges moms\n",
      "Kurtage i forbindelse med køb og salg af aktiepost er, som ved almindelig aktiehandel, fradragsberettiget. Præmie betalt til långiver vil kunne indgå i beregningen af gevinst og tab ved tilbagesalg af aktierne til långiver.\n",
      "Skatterådet kunne ikke bekræfte, at investorerne i Spørger ikke blev begrænset skattepligtige til Danmark, hvis der blev etableret et dansk datterselskab af det udenlandske ABC3. Skatterådet kunne dog bekræfte, at investorerne i Spørger ikke blev skattepligtige til Danmark, hvis der blev benyttet en dansk investeringsrådgiver, som ikke var ejet af ABC3.\n",
      "Skatterådet kan ikke bekræfte, at spørger kan sælge den faste ejendom uden at tillægge købesummen moms.\n",
      "Skatterådet kan bekræfte, at spørger ved salg af biobrændsel fra sit tyske lager til danske privatkunder ikke skal afregne dansk moms, når spørger på sin hjemmeside oplyser om, at spørgers kunder kan kontakte navngivne speditører/vognmænd for at få en pris på transport til Danmark. Skatterådet kan endvidere bekræfte, at det ikke gør nogen forskel, om biobrændsel leveret til spørgers tyske lager fra ikke danske leverandører, læsses af lastbilen inden leverancen helt eller delvist direkte køres videre til danske privatkunder. Skatterådet lægger vægt på, at de danske kunder har indgået selvstændige juridiske aftaler med både sælger og transportører, at kunden har frit valg i forbindelse med valg af transportør, at aftalen er indgået på internettet, og ikke i en dansk butik, og at varerne udleveres til transportøren i Tyskland.\n",
      "\n",
      "\n",
      "Results for topic nr. 1:\n",
      "word list: ['retten', 'fandt', 'landsretten', 'grundlag', 'sagsøgeren', 'godtgjort', 'påstand', 'skatteministeriet', 'byretten', 'skatteyderen', 'sagen', 'baggrund', 'skat', 'følge', 'tog', 'skøn', 'landsskatteretten', 'resultat', 'afgørelse', 'frifundet', 'endvidere', 'gældende', 'sagsøgerens', 'idet', 'skats', 'medhold', 'grund', 'tilsidesætte', 'forkert', 'fradrag']\n",
      "representative documents:\n",
      "På den baggrund og da der ikke i øvrigt var grundlag for at tilsidesætte skattemyndighedernes skøn tog retten Skatteministeriets frifindelsespåstand til følge.\n",
      "Efter en samlet vurdering fandt retten herefter ikke, at skatteyderen havde bevist, at virksomheden ville udvikle sig således, at stutteriet ville kunne give en rimelig fortjeneste.\n",
      "Byretten fandt, at skatteyderen skulle beskattes af maskeret udlodning, men henførte beskatningen til indkomståret 2005. Skatteministeriet fik dermed medhold i den subsidiære påstand.\n",
      "Landsretten finder, at sagsøger kun skal pålægges delvise sagsomkostninger.\n",
      "Højesteret gav ministeriet medhold i, at både selskabets kursgevinster- og tab i indkomstårene 2002-2006 - skulle medtages i kulbrinteindkomsten. Højesteret henviste til, at henvisningen i kulbrinteskattelovens § 4 til skattelovgivningens almindelige regler indebar, at sådanne gevinster og tab skulle medregnes i kulbrinteindkomsten på grundlag af en opgørelse i overensstemmelse med kursgevinstlovens regler om lagerprincippet. Højesteret ændrede derfor landsrettens dom på dette punkt.\n",
      "\n",
      "\n",
      "Results for topic nr. 2:\n",
      "word list: ['retten', 'fandt', 'sagsøgeren', 'grundlag', 'godtgjort', 'landsretten', 'skatteyderen', 'lagde', 'vægt', 'selskabet', 'byretten', 'skøn', 'sagsøgerens', 'grund', 'oplysninger', 'endvidere', 'måtte', 'forhold', 'gældende', 'resultat', 'åbenbart', 'bl', 'skat', 'forkert', 'løftet', 'sagen', 'bilen', 'appellanten', 'føre', 'skattemyndighederne']\n",
      "representative documents:\n",
      "Retten fandt, at sagsøgeren på visse konkrete punkter havde godtgjort, at der ikke er sket salg, ligesom retten på visse konkrete punkter fandt det godtgjort, at der var solgt både for andre. Skatteministeriet skulle derfor anerkende, at sagsøgerens overskud af virksomheden og det deraf følgende momstilsvar blev nedsat i overensstemmelse hermed. \n",
      "Kontrakter mellem en dansk og en polsk virksomhed blev efter en konkret bedømmelse anset for kontrakter om arbejdsudleje i kildeskattelovens forstand. Landsretten fandt det efter en konkret bedømmelse godtgjort, at der var tale om arbejdsudleje, idet landsretten navnlig lagde vægt på den danske virksomheds instruktionsbeføjelser og aflønningsformen.\n",
      "Der forelå dog ubestridt ikke nogen skriftlig aftale om vederlagets omfang og vilkårene herfor til støtte for appellantens synspunkt andet end email-korrespondance mellem appellanten og den australske mellemmand. På den baggrund fandt retten ikke, at sagsøgeren havde løftet sin bevisbyrde for, at skønnet var åbenbart urimeligt eller hvilede på et forkert grundlag.\n",
      "I sagen var der alene tvist om, hvorvidt sagsøgeren i kraft af sin tilknytning til selskabet vidste eller burde vide, at der ikke var økonomisk realitet bag de formelle indeholdelser, således at de bogførte A-skatter og AM-bidrag ikke ville kunne afregnes (betingelsen om culpa).\n",
      "Dertil fandt retten ikke, at A havde ført det fornødne tilsyn og kontrol med udbetalingen af skattefri kørselsgodtgørelse. Det forhold, at der under retssagen blev fremlagt yderligere materiale, herunder fakturaer m.m., kunne ikke føre til andet resultat.\n",
      "\n",
      "\n",
      "Results for topic nr. 3:\n",
      "word list: ['stadfæstede', 'byrettens', 'dom', 'landsretten', 'br', 'skatteministeriet', 'byretsdommen', 'stadfæstet', 'frifindelse', 'landsrettens', 'resultat', 'højesteret', 'skm2015', 'dommen', 'medhold', 'fastsat', 'skm2017', 'vejledende', 'frifundet', 'stadfæstelse', 'nået', 'satserne', 'frifindende', 'baggrund', 'ølr', 'skm2016', 'skm2014', 'byretten', 'østre', '000']\n",
      "representative documents:\n",
      "Landsretten stadfæstede byrettens dom af de af byretten anførte grunde, og Skatteministeriet blev herefter frifundet.   \n",
      "Højesteret stadfæstede dermed landsrettens dom.   \n",
      "Landsretten stadfæstede byrettens frifindende dom i henhold til grundene.\n",
      "Landsretten var nået til det samme resultat.\n",
      "Landsretten stadfæstede byrettens dom, dog blev tillægsbøden til T1 forhøjet til 915.000 kr.\n",
      "\n",
      "\n",
      "Results for topic nr. 4:\n",
      "word list: ['frifundet', 'skatteministeriet', 'baggrund', 'hele', 'heraf', 'ministeriet', 'følge', 'skat', 'frifandt', 'dom', 'stadfæstet', 'indkomståret', 'byrettens', 'frifindelse', 'påstod', 'skatteministeriets', 'skatteministeret', 'medhold', '2005', '2007', 'arrest', 'ba', 'ii', 't4', 'følgelig', 'helhed', 'svares', 'nægtede', 'punkt', 't3']\n",
      "representative documents:\n",
      "Skatteministeriet blev derfor frifundet.\n",
      "Skatteministeriet blev derfor frifundet.\n",
      "Skatteministeriet blev herefter frifundet.\n",
      "På denne baggrund blev Skatteministeriet frifundet\n",
      "Der blev foretaget arrest i\n",
      "\n",
      "\n"
     ]
    }
   ],
   "metadata": {}
  },
  {
   "cell_type": "markdown",
   "source": [
    "### Something's rotten in the state of topic 1\r\n",
    "It seems to be empty"
   ],
   "metadata": {}
  },
  {
   "cell_type": "code",
   "execution_count": 32,
   "source": [
    "topic1 = doc_topics[doc_topics[\"topic\"] == 1]\r\n",
    "topic1[\"doc\"] = topic1[\"doc\"].str.strip().replace(\"\", np.nan)\r\n"
   ],
   "outputs": [
    {
     "output_type": "stream",
     "name": "stderr",
     "text": [
      "C:\\Users\\jhr\\AppData\\Local\\Temp/ipykernel_12376/2005448945.py:2: SettingWithCopyWarning: \n",
      "A value is trying to be set on a copy of a slice from a DataFrame.\n",
      "Try using .loc[row_indexer,col_indexer] = value instead\n",
      "\n",
      "See the caveats in the documentation: https://pandas.pydata.org/pandas-docs/stable/user_guide/indexing.html#returning-a-view-versus-a-copy\n",
      "  topic1[\"doc\"] = topic1[\"doc\"].str.strip().replace(\"\", np.nan)\n"
     ]
    },
    {
     "output_type": "execute_result",
     "data": {
      "text/html": [
       "<div>\n",
       "<style scoped>\n",
       "    .dataframe tbody tr th:only-of-type {\n",
       "        vertical-align: middle;\n",
       "    }\n",
       "\n",
       "    .dataframe tbody tr th {\n",
       "        vertical-align: top;\n",
       "    }\n",
       "\n",
       "    .dataframe thead th {\n",
       "        text-align: right;\n",
       "    }\n",
       "</style>\n",
       "<table border=\"1\" class=\"dataframe\">\n",
       "  <thead>\n",
       "    <tr style=\"text-align: right;\">\n",
       "      <th></th>\n",
       "      <th>topic</th>\n",
       "      <th>prob</th>\n",
       "      <th>doc</th>\n",
       "    </tr>\n",
       "  </thead>\n",
       "  <tbody>\n",
       "  </tbody>\n",
       "</table>\n",
       "</div>"
      ],
      "text/plain": [
       "Empty DataFrame\n",
       "Columns: [topic, prob, doc]\n",
       "Index: []"
      ]
     },
     "metadata": {},
     "execution_count": 32
    }
   ],
   "metadata": {}
  }
 ],
 "metadata": {
  "orig_nbformat": 4,
  "language_info": {
   "name": "python",
   "version": "3.8.11",
   "mimetype": "text/x-python",
   "codemirror_mode": {
    "name": "ipython",
    "version": 3
   },
   "pygments_lexer": "ipython3",
   "nbconvert_exporter": "python",
   "file_extension": ".py"
  },
  "kernelspec": {
   "name": "python3",
   "display_name": "Python 3.8.11 64-bit ('bertopic_explore': conda)"
  },
  "interpreter": {
   "hash": "d6f86e4359b2b5cf5d398b363c816bb50d8f4fd2c9e9291492e7c9219700f63c"
  }
 },
 "nbformat": 4,
 "nbformat_minor": 2
}