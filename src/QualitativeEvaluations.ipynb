{
 "cells": [
  {
   "cell_type": "markdown",
   "metadata": {},
   "source": [
    "# Qualitatitive topic evaluations\n",
    "This notebook is used for formatting the data for qualitative evaluations. This includes: \n",
    "- Inspecting the topic words\n",
    "- Inspecting representative documents\n",
    "- Coming up with good \"titles\" for the topics\n",
    "\n",
    "Notes on TweetEval: \n",
    "- 10 topics may be too much :((\n",
    "- Difficult to classify? "
   ]
  },
  {
   "cell_type": "code",
   "execution_count": null,
   "metadata": {},
   "outputs": [],
   "source": [
    "import pickle\n",
    "import numpy as np\n",
    "import pandas as pd\n",
    "import re\n",
    "from pprint import pprint\n",
    "from typing import Dict, Tuple, List, Union\n",
    "from bertopic import BERTopic\n",
    "from pathlib import Path"
   ]
  },
  {
   "cell_type": "code",
   "execution_count": 9,
   "metadata": {},
   "outputs": [],
   "source": [
    "def read_pickle(file_path):\n",
    "    with open(file_path, \"rb\") as f:\n",
    "        return pickle.load(f)\n",
    "\n",
    "def get_model_name(model_path: Path) -> str:\n",
    "    return re.match(\"\\w+-\\w+-\\d+\", model_path.name).group()\n",
    "\n",
    "def create_topic_dict(raw_topic_dict: Dict[int, Tuple[str, int]]) -> Dict[int, List[str]]:\n",
    "    return {k: [tup[0] for tup in lst] for k, lst in raw_topic_dict.items() if k!=-1}\n",
    "\n",
    "def latest_full_topics(dr: Path) -> Path:\n",
    "    return list(dr.glob(\"*full_doc_topics_*.csv\"))[-1]\n",
    "\n",
    "    "
   ]
  },
  {
   "cell_type": "code",
   "execution_count": 4,
   "metadata": {},
   "outputs": [],
   "source": [
    "DATA_DIR = Path(\"../data\")\n",
    "MODEL_DIR = Path(\"../../ExplainlpTwitter/output\")\n"
   ]
  },
  {
   "cell_type": "code",
   "execution_count": null,
   "metadata": {},
   "outputs": [],
   "source": [
    "model_path = \"\"\n",
    "model = BERTopic.load(model_path)"
   ]
  },
  {
   "cell_type": "code",
   "execution_count": 6,
   "metadata": {},
   "outputs": [
    {
     "data": {
      "text/plain": [
       "[WindowsPath('../data/full_doc_topics_20211206_124932.csv'),\n",
       " WindowsPath('../data/full_doc_topics_20211207_132414.csv')]"
      ]
     },
     "execution_count": 6,
     "metadata": {},
     "output_type": "execute_result"
    }
   ],
   "source": []
  },
  {
   "cell_type": "code",
   "execution_count": 11,
   "metadata": {},
   "outputs": [],
   "source": [
    "\n",
    "doc_topics = pd.read_csv(latest_full_topics(DATA_DIR), index_col=0)\n",
    "doc_topics\n",
    "topic_words = read_pickle(DATA_DIR / \"tweeteval_topic_dict.pkl\" )\n",
    "clean_tweets = pd.read_csv(DATA_DIR / \"tweeteval_text.csv\", usecols=[\"text\"])\n",
    "doc_topics = doc_topics.merge(clean_tweets, left_index=True, right_index=True)\n"
   ]
  },
  {
   "cell_type": "markdown",
   "metadata": {},
   "source": [
    "## Looking at topic words"
   ]
  },
  {
   "cell_type": "code",
   "execution_count": 12,
   "metadata": {},
   "outputs": [
    {
     "name": "stdout",
     "output_type": "stream",
     "text": [
      "{0: ['user',\n",
      "     'user user',\n",
      "     'love',\n",
      "     'just',\n",
      "     'day',\n",
      "     'new',\n",
      "     'tomorrow',\n",
      "     'like',\n",
      "     'amp',\n",
      "     'im'],\n",
      " 1: ['user',\n",
      "     'just',\n",
      "     'tomorrow',\n",
      "     'night',\n",
      "     'california',\n",
      "     'user user',\n",
      "     'day',\n",
      "     'sun',\n",
      "     'user just',\n",
      "     'today'],\n",
      " 2: ['user',\n",
      "     'night',\n",
      "     'friday',\n",
      "     'new',\n",
      "     'tomorrow',\n",
      "     'nov',\n",
      "     'amp',\n",
      "     'check',\n",
      "     'art',\n",
      "     'posted'],\n",
      " 3: ['happy',\n",
      "     'thanks',\n",
      "     'day',\n",
      "     'sunday',\n",
      "     'user',\n",
      "     'game',\n",
      "     'family',\n",
      "     'happy friday',\n",
      "     'weekend',\n",
      "     'good'],\n",
      " 4: ['user',\n",
      "     'user user',\n",
      "     'welfare',\n",
      "     'like',\n",
      "     'semst',\n",
      "     'law',\n",
      "     'fidel',\n",
      "     'people',\n",
      "     'gun',\n",
      "     'manitoba'],\n",
      " 5: ['user',\n",
      "     'user user',\n",
      "     'know',\n",
      "     'trump',\n",
      "     'theyre',\n",
      "     'just',\n",
      "     'check',\n",
      "     'antifa',\n",
      "     'guy',\n",
      "     'cannabiscup'],\n",
      " 6: ['tomorrow',\n",
      "     'user',\n",
      "     'day',\n",
      "     'good',\n",
      "     'tonight',\n",
      "     'year',\n",
      "     'just',\n",
      "     'game',\n",
      "     'come',\n",
      "     'season'],\n",
      " 7: ['trndnl',\n",
      "     'trends trndnl',\n",
      "     'trending topic',\n",
      "     'place top20',\n",
      "     'top20',\n",
      "     'trends',\n",
      "     'appeared',\n",
      "     'trending',\n",
      "     'trndnl did',\n",
      "     'topic'],\n",
      " 8: ['nutcracker',\n",
      "     'rodeo',\n",
      "     'night',\n",
      "     'abtofficial',\n",
      "     'night tgif',\n",
      "     'hymn',\n",
      "     'pro rodeo',\n",
      "     'port stanley',\n",
      "     'playlist michael',\n",
      "     'perry friday'],\n",
      " 9: ['opening',\n",
      "     'run',\n",
      "     'tsotsi captain',\n",
      "     'just leaving',\n",
      "     'like 458',\n",
      "     'films tv',\n",
      "     'ujamaa kwanzaa',\n",
      "     'leaving uk',\n",
      "     'ladykillers mask',\n",
      "     'la week']}\n"
     ]
    }
   ],
   "source": [
    "topic_dict = create_topic_dict(topic_words)\n",
    "pprint(topic_dict)\n"
   ]
  },
  {
   "cell_type": "code",
   "execution_count": 13,
   "metadata": {},
   "outputs": [
    {
     "data": {
      "text/plain": [
       "topic\n",
       "-1     67274\n",
       " 0    130554\n",
       " 1       643\n",
       " 2       876\n",
       " 3       597\n",
       " 4       168\n",
       " 5       238\n",
       " 6       285\n",
       " 7        79\n",
       " 8        48\n",
       " 9        23\n",
       "dtype: int64"
      ]
     },
     "execution_count": 13,
     "metadata": {},
     "output_type": "execute_result"
    }
   ],
   "source": [
    "doc_topics.groupby(\"topic\").size()"
   ]
  },
  {
   "cell_type": "code",
   "execution_count": 15,
   "metadata": {},
   "outputs": [
    {
     "name": "stdout",
     "output_type": "stream",
     "text": [
      "evaluating topic 0\n",
      "(\"words = ['user', 'user user', 'love', 'just', 'day', 'new', 'tomorrow', \"\n",
      " \"'like', 'amp', 'im']\")\n",
      "examples for topic 0\n",
      "['Was last night real?!?! We ️ you Dave Barnes! @ Bijou Theatre', 'oregon makes me @ Hood River, Oregon', '\"Emile Garuba joins Michaela and Jerrilyn in-studio on the #EntertainmentShow to review Kunle Afolayan\\'s latest film, October 1.\"', 'So this is what we get in our suggestion box?! Really guys? @ Industrial Strength Gym', 'One of my favorite videos. Should we start a TV show? #sandiego #encinitas #realestate #luxury…', 'Work and fun #squaw #rental @ Squaw Valley, Lake Tahoe', 'Me and Tommy in a very serious moment vanceology photo-cred dwill_photos #cleveland #friends…', '\"Israel. This voluntary offering a community would hold your coat, you to the ocean, enjoying the Church, may be more useful\"', 'Premios Latin Grammy @ MGM Grand Garden Arena', 'Having a great time at the beach ! Happy Fourth of July ! @ South Lake Tahoe, California']\n",
      "\n",
      "evaluating topic 1\n",
      "(\"words = ['user', 'just', 'tomorrow', 'night', 'california', 'user user', \"\n",
      " \"'day', 'sun', 'user just', 'today']\")\n",
      "examples for topic 1\n",
      "['#Underworld: To the Fans of Underworld and Independent Art:As you may already know\\\\u002c Underworld is once again in...', \"Watching Scream Queens Season 2 Episode 5 'Chanel Pour Homme-icide' #ScreamQueens #ChanelPourHommeIcide @user\", 'Watching Sharknado.', 'Pay attention to details. : Shotz by speedienakpix @ Santa Monica Pier', 'This is how you do the summer squash #mealprep wave @ Real Kabob', \"@user aren't you that dentist from Seinfeld. Have you been in anything else I may have seen?\", '\"American Horror Story\\'s third season is out on Monday, so here\\'s a photo of the Blu-ray. #WhyDidItHaveToBeSnakes', 'My brother: What baseball team does Tony Romo play for?', '\"Lucas Duda said he will get a second opinion in California on Monday with doctor Robert Watkins, who treated David Wright\\'s stenosis.\"', 'Natural Hair Journey ————— Lets Start This Journey! It’s time to get control over your…']\n",
      "\n",
      "evaluating topic 2\n",
      "(\"words = ['user', 'night', 'friday', 'new', 'tomorrow', 'nov', 'amp', \"\n",
      " \"'check', 'art', 'posted']\")\n",
      "examples for topic 2\n",
      "[\"Details from last night's dinner @user . @ Herringbone\", '\"For you @user -  Sibling-wed Game with Scott and Chris Evans, Part 2', '\"An update from @user an athlete from Basildon we sponsor. On Sat Gemma attended the London Grand Prix -', 'Jeremy evans just posterized turiaf watch sportscenter tomorrow morning so u could see it', 'A visual history of 9:30 Club gigs @ 9:30 Club', 'Off to see Steve Harris (Iron Maiden) British Lion tomorrow with Mark Kirkman.  Up close and personal in The...', 'Day 5 of #ChristmasTreeYogis is #FallenTrianglePose …', 'It’s time for one last go-around ️ #GoGreek #SeniorYear #LEGGO @ UMU Alpha Delta Pi', 'Since 2004...some new window text now in place. Find us at 2780 N. Lincoln Ave., Chicago. @user', \"Awards ceremony for Michael's yellow belt #taekwondo (@ John Emmon's Tae Kwon Do Academy in Kissimmee, FL)\"]\n",
      "\n",
      "evaluating topic 3\n",
      "(\"words = ['happy', 'thanks', 'day', 'sunday', 'user', 'game', 'family', \"\n",
      " \"'happy friday', 'weekend', 'good']\")\n",
      "examples for topic 3\n",
      "[\"Come get a wash y'all! Happy 4th lol @ Pair-A-Dice Car Wash Full…\", 'Love these guys! RT @user Tried to get the whole family in! #selfiestick @user', \"Happy 4th of July @ Slater's 50/50\", 'A break from life was much needed. Thanks for coming out with me #carrollu #hoco #football…', 'Thanks for the tip family. #drinks #wolfgang #cut #wewinning #salute @user #goodtimes…', 'Dream come true thank you thunderwoodz @user cafesfg #giants #baseball #attpark…', 'Best night LN @user at the @user gig : @user &lt;3 @ Paradise Rock Club', \"@user the congrats one? Thanks btw. We race at LVMS in Sept and Nov. Not sure if I'll do the September one though\", 'Time to enjoy some of my Christmas gifts #stonebrewing @ Indio,…', 'Love being able to drive all year around #Chevrolet #Chevy #Z28 #Camaro #LS #LS1 #LSX…']\n",
      "\n",
      "evaluating topic 4\n",
      "(\"words = ['user', 'user user', 'welfare', 'like', 'semst', 'law', 'fidel', \"\n",
      " \"'people', 'gun', 'manitoba']\")\n",
      "examples for topic 4\n",
      "[\"Be wary any time Walker says he isn't seeking: Scott Walker: I'm Not Seeking To Repeal Birthright Citizenship (VIDEO)\", '@user @user @user @user Nono, you are right: Not all men say not all men...; -P', '\"Is Caitlyn Jenner finally ready to put on a bathing suit?! In this Sunday\\'s I Am Cait, the 65-year-old faces her fears about wearing a\"', 'According to US and Palestinian officials, the Trump administration is working to end UNRWA’s work in order to “remove the refugee issue from any possible negotiations between the Israelis and the Palestinians”.', \"@user @user ?Regardless of your position,protocol should be followed in all SCOTUS decisions.Next time it may be one you don't like\", 'Selective listening a #character trait of convenience #feminists #SemST', 'The federal government did not create the states, the states created the federal government. Ronald Reagan #Federalism #SemST', '#Analysis: Supporters of the People\\'s Party of Canada would likely bristle at being called liberal,\"\" but its beliefs fit the classic definition. @user', 'Donald Trump may \"say it like it is\" but what is the likelihood that he would have a cooperative Congress, Caller? @user', '@user @user You do understand we need Europe right?']\n",
      "\n",
      "evaluating topic 5\n",
      "(\"words = ['user', 'user user', 'know', 'trump', 'theyre', 'just', 'check', \"\n",
      " \"'antifa', 'guy', 'cannabiscup']\")\n",
      "examples for topic 5\n",
      "[\"@user A woman in Hatteras told me last night I don't know what I'm talking about when I told her to get off the island. I hope she is alive afterward.\", '\"Everything! You take Everything!\" advises Ellen Barkin to Nicky, her son Craig\\'s jailbait…', '@user so when people joined the IRA after Bloody Sunday &amp; Ballymurphy was it 3rd generation = wise up', 'Did you want or need a job #Maga #MAGARallyRules #MAGA2020 #TrumpSupporters #WomenForTrump', \"@user @user Her time is coming &amp; she's going to take the entire cabal with her !\", '@user As #Corbyn being  continually pilloried for talking to Sinn Fein and the IRA will we be decrying the legacy of Good Friday?', 'Spending that tip money (@ state beauty supply)', '\"You never forget your first love, not surprisec in Oedipus\\'s case he saw her every Mothering Sunday.\"', \"@user Are you sure she was't just thinking about herself.\", '@user Jesus said he who has not sinned may cast the first stone.w8 that was a whore.Jesus then threw rock at gay couple kissing.RYT?']\n",
      "\n",
      "evaluating topic 6\n",
      "(\"words = ['tomorrow', 'user', 'day', 'good', 'tonight', 'year', 'just', \"\n",
      " \"'game', 'come', 'season']\")\n",
      "examples for topic 6\n",
      "['A \"Zen moment\" in between shots Congratulations to my student Vega who is now off to travel the…', '\"Getting ready for church, if anybody in Dallas wants to go lemme know,then BINGO tonight to win another $750.00. Sam Smith concert tomorrow!\"', \"October 6th is gonna be a busy day for me: Rick Riordan's Magnus Chase book is released as is the illustrated Harry Potter book.\", \"Gig at GAY tomorrow with @user hopefully 'fingers crossed' x\", \"️Taking a lunch break with one of my biggest supporters... My daughter! It's take your kid to work…\", 'Derby tomorrow night with my girls @user and @user Off to sleep now #night twitter < 3', '@user Dublin this Saturday... Gotta get on the Guinness!!', 'and the biggest surprise of the Tuesday Decs is as many as 19 taking on Quevega in the Mares Hurdle!', 'I got a job as a rebel!!! @ Star Tours - The Adventure Continues', '\"Friday, September 4th celebrate the Iron Maiden \"\"The Book of Souls \"\" Album Release Party!  Starting at 6 PM buy a...']\n",
      "\n",
      "evaluating topic 7\n",
      "(\"words = ['trndnl', 'trends trndnl', 'trending topic', 'place top20', \"\n",
      " \"'top20', 'trends', 'appeared', 'trending', 'trndnl did', 'topic']\")\n",
      "examples for topic 7\n",
      "[\"Did you know that 'Frank Gifford' was Trending Topic on Sunday 9 for 6 hours in Calgary? #trndnl\", \"'Frank Ocean' appeared on Sunday 16 at the 11th place in the Top20 of Dallas-Ft. Worth's Trends: #trndnl\", \"Bad Blood (feat. Kendrick Lamar) by #TaylorSwift is UK's Top 36 on the Singles #Chart as of the 17th of July 2050\", \"Did you know that 'Frank Ocean' was Trending Topic on Thursday 20 for 5 hours in San Francisco? #trndnl\", \"Did you know that 'Kris Bryant' was Trending Topic on Monday 7 for 5 hours in Chicago? #trndnl\", \"'Scott Walker' appeared on Sunday 30 at the 9th place in the Top20 of Montreal's Trends: #trndnl\", \"Did you know that 'Swachh Bharat' was Trending Topic on Sunday 5 for 0 hours in Pune? #trndnl\", \"'Dana White' appeared on Sunday 13 at the 20th place in the Top20 of Miami's Trends: #trndnl\", \"Did you know that 'Prince George' was Trending Topic on Friday 14 for 4 hours in Belfast? #trndnl\", \"'Sarah Palin' appeared on Sunday 6 at the 14th place in the Top20 of Birmingham's Trends: #trndnl\"]\n",
      "\n",
      "evaluating topic 8\n",
      "(\"words = ['nutcracker', 'rodeo', 'night', 'abtofficial', 'night tgif', \"\n",
      " \"'hymn', 'pro rodeo', 'port stanley', 'playlist michael', 'perry friday']\")\n",
      "examples for topic 8\n",
      "['@user at the #MoviePremiereOf #monday at 11:01 Dress by @user Thank you…', 'April & I are having dinner in Jacksonville tomorrow night with Milford & the future Mrs. Milford!  @user #SebringLSA13', 'Playing new Tribe album tonight at @user lobby bar at @user @ The LINE Hotel', '\"Nirvana tribute concert Friday July 31st at Pine Street Bar in Livermore, with tributes to Green Day and The...', '\"Silent Night\" sung at APU\\'s Christmas tree lighting. @ Azusa Pacific University', '@user on stage at #flzjingleball at the @user in #Tampa #iheartradio', 'Two more off the board in Niagara Falls before we head into the Hollidays!! @ Niagara Falls,…', 'Last night @user for davidbowie tribute before performing \"Fashion\". | …', 'Downtown to show the sis the sites and Pokemon stops @ CityScape Phoenix', 'Post @user art show cocktails with the BFF ️ @ E. Smith Mercantile']\n",
      "\n",
      "evaluating topic 9\n",
      "(\"words = ['opening', 'run', 'tsotsi captain', 'just leaving', 'like 458', \"\n",
      " \"'films tv', 'ujamaa kwanzaa', 'leaving uk', 'ladykillers mask', 'la week']\")\n",
      "examples for topic 9\n",
      "['Fulfilled Prophecies of the 20th &amp; 21st Centuries America and Israel via @user', '\"When we watch Frosty The Snowman, he routes for the sun. - The Big Bang Theory, Leonard Hofstadter\"', '#tbt How I feel when I eat tacos /////// :@Xay_Shinobi @ Hooters', \"@user @user @user it's October third. the day that Aaron Samuels talked to Cady. we still need a viewing party.\", 'The ambition of Nadal\\\\u002c the knees of Ena Sharples and the liver of George Best. My recipe for Saturday tennis. #5-7 5-7', '\"Yo Nate, Shawn and Wanya. How about when you come to Namibia in October. Can we get same tees printed Namibia?', 'I was probably looking at the sunset : high4sk @ Frenchmans Bay Marina', 'Song JoongKi\\\\u002c Park Bo Young at the premiere The Grand Heist / Gone With The Wind on the 25th.', \"Long day yesterday. Started here at Manawaiopuna Falls. You may know them from Jurassic Park... #Kaua'i #Hawai'i\", 'Should I eat prime rib before getting on a 6-hour flight? Thoughts/feelings? (@ Hunters Steak House)']\n",
      "\n"
     ]
    }
   ],
   "source": [
    "for top, words in topic_dict.items():\n",
    "    print(f\"evaluating topic {top}\")\n",
    "    pprint(f\"{words = }\")\n",
    "    print(f\"examples for topic {top}\")\n",
    "    example_tweets = doc_topics.loc[doc_topics[\"topic\"] == top, \"text\"].sample(10, random_state=42).tolist()\n",
    "    print(example_tweets)\n",
    "    print(\"\")\n"
   ]
  }
 ],
 "metadata": {
  "interpreter": {
   "hash": "d6f86e4359b2b5cf5d398b363c816bb50d8f4fd2c9e9291492e7c9219700f63c"
  },
  "kernelspec": {
   "display_name": "Python 3.8.11 64-bit ('bertopic_explore': conda)",
   "name": "python3"
  },
  "language_info": {
   "codemirror_mode": {
    "name": "ipython",
    "version": 3
   },
   "file_extension": ".py",
   "mimetype": "text/x-python",
   "name": "python",
   "nbconvert_exporter": "python",
   "pygments_lexer": "ipython3",
   "version": "3.8.12"
  },
  "orig_nbformat": 4
 },
 "nbformat": 4,
 "nbformat_minor": 2
}
