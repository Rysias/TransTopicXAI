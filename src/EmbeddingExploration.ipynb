{
 "cells": [
  {
   "cell_type": "code",
   "execution_count": 8,
   "metadata": {},
   "outputs": [],
   "source": [
    "import pickle\n",
    "import numpy as np\n",
    "import pandas as pd\n",
    "import re\n",
    "import matplotlib.pyplot as plt\n",
    "from umap import UMAP\n",
    "from pathlib import Path\n",
    "from typing import Dict"
   ]
  },
  {
   "cell_type": "code",
   "execution_count": 2,
   "metadata": {},
   "outputs": [],
   "source": [
    "def read_pickle(file_path):\n",
    "    with open(file_path, \"rb\") as f:\n",
    "        return pickle.load(f)\n",
    "\n",
    "def flatten_embeddings(emb_dict: Dict[str, np.ndarray]) -> np.ndarray:\n",
    "    return np.vstack(emb_dict.values())\n",
    "    \n",
    "def get_model_name(model_path: Path) -> str:\n",
    "    return re.match(\"\\w+-\\w+-\\d+\", model_path.name).group()"
   ]
  },
  {
   "cell_type": "code",
   "execution_count": 3,
   "metadata": {},
   "outputs": [],
   "source": [
    "# Loading data\n",
    "DATA_DIR = Path(\"../data\")\n",
    "MODEL_DIR = Path(\"../models\")\n",
    "model = next(MODEL_DIR.glob(\"*topic_model\"))\n",
    "model_name = get_model_name(model)\n",
    "embeddings = np.load(DATA_DIR / f\"{model_name}_embs.npy\")"
   ]
  },
  {
   "cell_type": "code",
   "execution_count": 6,
   "metadata": {},
   "outputs": [],
   "source": [
    "umap_model = UMAP(n_neighbors=15, n_components=2, min_dist=0.0, metric='cosine')\n",
    "umap_embeddings = umap_model.fit_transform(embeddings, None)"
   ]
  },
  {
   "cell_type": "code",
   "execution_count": 9,
   "metadata": {},
   "outputs": [
    {
     "data": {
      "text/plain": [
       "<matplotlib.collections.PathCollection at 0x1de418efd90>"
      ]
     },
     "execution_count": 9,
     "metadata": {},
     "output_type": "execute_result"
    },
    {
     "data": {
      "image/png": "[encoded data removed]",
      "text/plain": [
       "<Figure size 432x288 with 1 Axes>"
      ]
     },
     "metadata": {
      "needs_background": "light"
     },
     "output_type": "display_data"
    }
   ],
   "source": [
    "umap_embeddings.shape\n",
    "\n",
    "plt.scatter(umap_embeddings[:, 0], umap_embeddings[:, 1])\n"
   ]
  },
  {
   "cell_type": "code",
   "execution_count": 19,
   "metadata": {},
   "outputs": [
    {
     "data": {
      "text/plain": [
       "array([[-0.31369581,  0.14069182,  0.30839828, ...,  0.14768848,\n",
       "        -0.31350435, -0.07608722],\n",
       "       [-0.34384449,  0.11415869,  0.30685374, ...,  0.18315915,\n",
       "        -0.23269803, -0.07757123],\n",
       "       [-0.34133812,  0.16279837,  0.30273958, ...,  0.1487918 ,\n",
       "        -0.30827798, -0.04475188],\n",
       "       [-0.316619  ,  0.09571641,  0.18792396, ...,  0.2236739 ,\n",
       "        -0.19927784, -0.09734898],\n",
       "       [-0.52454731,  0.13400279,  0.13540939, ...,  0.43394851,\n",
       "        -0.15234472, -0.14136522]])"
      ]
     },
     "execution_count": 19,
     "metadata": {},
     "output_type": "execute_result"
    }
   ],
   "source": [
    "model.calculate_centroids(doc_topics[\"topic\"], doc_topics[\"prob\"], embeddings)"
   ]
  },
  {
   "cell_type": "code",
   "execution_count": 34,
   "metadata": {},
   "outputs": [],
   "source": [
    "# Transform and remove nan\n",
    "new_features = model.transform_many(embeddings_dict.values())\n",
    "new_features = new_features[~np.isnan(new_features).any(axis=1)]"
   ]
  },
  {
   "cell_type": "code",
   "execution_count": 37,
   "metadata": {},
   "outputs": [
    {
     "data": {
      "text/plain": [
       "(7835, 5)"
      ]
     },
     "execution_count": 37,
     "metadata": {},
     "output_type": "execute_result"
    }
   ],
   "source": [
    "new_features.shape"
   ]
  },
  {
   "cell_type": "code",
   "execution_count": 43,
   "metadata": {},
   "outputs": [
    {
     "data": {
      "image/png": "[encoded data removed]",
      "text/plain": [
       "<Figure size 1000x250 with 5 Axes>"
      ]
     },
     "metadata": {
      "needs_background": "light"
     },
     "output_type": "display_data"
    }
   ],
   "source": [
    "# Visualize this bad boi\n",
    "from matplotlib import pyplot as plt \n",
    "# Plot\n",
    "fig, axes = plt.subplots(1, 5, figsize=(10,2.5), dpi=100, sharex=True, sharey=True)\n",
    "colors = ['tab:red', 'tab:blue', 'tab:green', 'tab:pink', 'tab:olive']\n",
    "\n",
    "for i, ax in enumerate(axes.flatten()):\n",
    "    ax.hist(new_features[:, i], alpha=0.5, bins=30, density=True, stacked=True, label=i, color=colors[i])\n",
    "    ax.set_title(f\"Topic {i}\")"
   ]
  }
 ],
 "metadata": {
  "interpreter": {
   "hash": "d6f86e4359b2b5cf5d398b363c816bb50d8f4fd2c9e9291492e7c9219700f63c"
  },
  "kernelspec": {
   "display_name": "Python 3.8.11 64-bit ('bertopic_explore': conda)",
   "name": "python3"
  },
  "language_info": {
   "codemirror_mode": {
    "name": "ipython",
    "version": 3
   },
   "file_extension": ".py",
   "mimetype": "text/x-python",
   "name": "python",
   "nbconvert_exporter": "python",
   "pygments_lexer": "ipython3",
   "version": "3.8.12"
  },
  "orig_nbformat": 4
 },
 "nbformat": 4,
 "nbformat_minor": 2
}
