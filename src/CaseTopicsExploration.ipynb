{
 "cells": [
  {
   "cell_type": "markdown",
   "metadata": {},
   "source": [
    "# Creating topics for the cases\n",
    "This notebooks explores the topics we can create from the cases. It's gonna involve a lot of trial and error, but it will hopefully be well-documented"
   ]
  },
  {
   "cell_type": "code",
   "execution_count": 7,
   "metadata": {},
   "outputs": [],
   "source": [
    "import pickle\n",
    "import requests\n",
    "import random\n",
    "import pandas as pd\n",
    "import numpy as np\n",
    "from pathlib import Path\n",
    "from bertopic import BERTopic\n",
    "from sklearn.feature_extraction.text import CountVectorizer"
   ]
  },
  {
   "cell_type": "code",
   "execution_count": 8,
   "metadata": {},
   "outputs": [],
   "source": [
    "def read_pickle(file_path):\n",
    "    with open(file_path, \"rb\") as f:\n",
    "        return pickle.load(f)\n",
    "\n",
    "def pickle_object(obj, file_path):\n",
    "    with open(file_path, \"wb\") as f:\n",
    "        pickle.dump(obj, f)\n",
    "\n",
    "def flatten_embeddings(embedding_dict):\n",
    "    \"\"\" Creates a big matrix with all the embeddings from the dict \"\"\"\n",
    "    return np.vstack(embedding_dict.values())\n",
    "\n",
    "def flatten_list(lst):\n",
    "    return [elem for sublist in lst for elem in sublist]\n",
    "\n",
    "def get_paragraphs(paragraph_dict):\n",
    "    return flatten_list(list(paragraph_dict.values()))\n",
    "\n",
    "\n",
    "def load_text_url(text_url: str): \n",
    "    \"\"\"Inputs a URL of a newline seperated text-file and returns a list\"\"\"\n",
    "    response = requests.get(text_url)\n",
    "    return response.text.split(\"\\n\")"
   ]
  },
  {
   "cell_type": "markdown",
   "metadata": {},
   "source": [
    "## Loading the data"
   ]
  },
  {
   "cell_type": "code",
   "execution_count": 9,
   "metadata": {},
   "outputs": [],
   "source": [
    "DATA_DIR = Path(\"../../BscThesisData/data\")\n",
    "MODEL_PATH = Path(\"../models\")\n",
    "embedding_dict = read_pickle(DATA_DIR / \"embedding_dict.pkl\")\n",
    "clean_paragraphs = read_pickle(DATA_DIR / \"paragraph_dict.pkl\")"
   ]
  },
  {
   "cell_type": "markdown",
   "metadata": {},
   "source": [
    "Now it's time to extract the embeddings for BERTopic to process"
   ]
  },
  {
   "cell_type": "code",
   "execution_count": 10,
   "metadata": {},
   "outputs": [
    {
     "name": "stdout",
     "output_type": "stream",
     "text": [
      "['Sagen drejede sig om, hvorvidt udgifter til arbejde udført af en ekstern konsulent, der dels bestod i bistand ved salg af datterselskabsaktier, dels bestod i formidling af finansiering (formidlingshonorar), kunne fradrages efter henholdsvis statsskattelovens § 6, stk. 1, litra a og ligningslovens § 8, stk. 3, litra c.', 'Skatterådet bekræfter, at fortjeneste indvundet ved modtagelse af erstatning for indgåelse af aftale om dyrkningspraksis, samt anvendelse af sprøjtemidler bliver sidestillet med ekspropriationserstatning, så § 11 i ejendomsavancebeskatningsloven finder anvendelse og erstatningen bliver friholdt for ejendomsavancebeskatning.', 'Landsretten fandt det ikke dokumenteret, at udgifterne havde en sådan konkret og direkte tilknytning til selskabets indkomsterhvervelse, at de kunne anses for erhvervsmæssige udgifter. Efter anskaffelsernes karakter var det en nærliggende mulighed, at udgifterne var afholdt for at opfylde private formål, og appellanten havde ikke dokumenteret, at dette ikke var tilfældet.', 'Appellanten, som drev bogførings- og revisionsvirksomhed, var forhøjet med en række beløb, der i 2005 og 2006 var indsat på hans bankkonti, som udeholdt omsætning.', 'På den baggrund fandt retten, at det var sagsøgeren, der bar bevisbyrden for, at skattemyndighedernes afgørelse kunne tilsidesættes vedrørende nogle enkelte poster i regnskabet. Under hensyn til karakteren af det foreliggende materiale ansås denne bevisbyrde ikke med sikkerhed løftet.']\n"
     ]
    }
   ],
   "source": [
    "embeddings = flatten_embeddings(embedding_dict)\n",
    "docs = get_paragraphs(clean_paragraphs)\n",
    "print(random.sample(docs, 5))"
   ]
  },
  {
   "cell_type": "markdown",
   "metadata": {},
   "source": [
    "### Now we initialize the models"
   ]
  },
  {
   "cell_type": "code",
   "execution_count": 11,
   "metadata": {},
   "outputs": [],
   "source": [
    "# Writing to test-directory\n",
    "TEST_PATH = Path(\"../../explainlp/tests\")\n",
    "pickle_object(docs[:50], TEST_PATH / \"example_docs.pkl\")\n",
    "pickle_object(embeddings[:50, :], TEST_PATH / \"example_embeddings.pkl\")"
   ]
  },
  {
   "cell_type": "markdown",
   "metadata": {},
   "source": [
    "# Load Cleaning Models"
   ]
  },
  {
   "cell_type": "code",
   "execution_count": 12,
   "metadata": {},
   "outputs": [],
   "source": [
    "STOP_WORD_URL = \"https://gist.githubusercontent.com/berteltorp/0cf8a0c7afea7f25ed754f24cfc2467b/raw/305d8e3930cc419e909d49d4b489c9773f75b2d6/stopord.txt\"\n",
    "STOP_WORDS = load_text_url(STOP_WORD_URL)\n",
    "vectorizer_model = CountVectorizer(stop_words=STOP_WORDS)\n",
    "pickle_object(vectorizer_model, MODEL_PATH / \"vectorizer.pkl\")"
   ]
  },
  {
   "cell_type": "code",
   "execution_count": 13,
   "metadata": {},
   "outputs": [],
   "source": [
    "# Powering up the transformer!\n",
    "topic_model = BERTopic(\"Maltehb/-l-ctra-danish-electra-small-cased\", vectorizer_model=vectorizer_model, nr_topics=5)"
   ]
  },
  {
   "cell_type": "code",
   "execution_count": 14,
   "metadata": {},
   "outputs": [],
   "source": [
    "topics, probs = topic_model.fit_transform(docs, embeddings)"
   ]
  },
  {
   "cell_type": "code",
   "execution_count": 23,
   "metadata": {},
   "outputs": [
    {
     "data": {
      "application/vnd.plotly.v1+json": {
       "config": {
        "plotlyServerURL": "https://plot.ly"
       },
       "data": [
        {
         "customdata": [
          [
           12.370692253112793,
           10.205758094787598,
           0,
           "skatterådet | spørger | bekræfte | stk | bekræfter",
           1969
          ],
          [
           -7.855066776275635,
           -13.001904487609863,
           1,
           "retten | fandt | landsretten | grundlag | sagsøgeren",
           1330
          ],
          [
           -6.938520908355713,
           -13.06072998046875,
           2,
           "retten | fandt | sagsøgeren | grundlag | godtgjort",
           1209
          ],
          [
           -8.678717613220215,
           -12.643400192260742,
           3,
           "stadfæstede | byrettens | dom | landsretten | br",
           779
          ],
          [
           -8.539791107177734,
           -12.005786895751953,
           4,
           "frifundet | skatteministeriet | baggrund | hele | heraf",
           597
          ]
         ],
         "hovertemplate": "<b>Topic %{customdata[2]}</b><br>Words: %{customdata[3]}<br>Size: %{customdata[4]}",
         "legendgroup": "",
         "marker": {
          "color": "#B0BEC5",
          "line": {
           "color": "DarkSlateGrey",
           "width": 2
          },
          "size": [
           1969,
           1330,
           1209,
           779,
           597
          ],
          "sizemode": "area",
          "sizeref": 1.230625,
          "symbol": "circle"
         },
         "mode": "markers",
         "name": "",
         "orientation": "v",
         "showlegend": false,
         "type": "scatter",
         "x": [
          12.370692253112793,
          -7.855066776275635,
          -6.938520908355713,
          -8.678717613220215,
          -8.539791107177734
         ],
         "xaxis": "x",
         "y": [
          10.205758094787598,
          -13.001904487609863,
          -13.06072998046875,
          -12.643400192260742,
          -12.005786895751953
         ],
         "yaxis": "y"
        }
       ],
       "layout": {
        "annotations": [
         {
          "showarrow": false,
          "text": "D1",
          "x": -9.980525255203247,
          "y": -1.6416088342666626,
          "yshift": 10
         },
         {
          "showarrow": false,
          "text": "D2",
          "x": 2.1228854179382326,
          "xshift": 10,
          "y": 11.736621809005737
         }
        ],
        "height": 650,
        "hoverlabel": {
         "bgcolor": "white",
         "font": {
          "family": "Rockwell",
          "size": 16
         }
        },
        "legend": {
         "itemsizing": "constant",
         "tracegroupgap": 0
        },
        "margin": {
         "t": 60
        },
        "shapes": [
         {
          "line": {
           "color": "#CFD8DC",
           "width": 2
          },
          "type": "line",
          "x0": 2.1228854179382326,
          "x1": 2.1228854179382326,
          "y0": -15.019839477539062,
          "y1": 11.736621809005737
         },
         {
          "line": {
           "color": "#9E9E9E",
           "width": 2
          },
          "type": "line",
          "x0": -9.980525255203247,
          "x1": 14.226296091079712,
          "y0": -1.6416088342666626,
          "y1": -1.6416088342666626
         }
        ],
        "sliders": [
         {
          "active": 0,
          "pad": {
           "t": 50
          },
          "steps": [
           {
            "args": [
             {
              "marker.color": [
               [
                "red",
                "#B0BEC5",
                "#B0BEC5",
                "#B0BEC5",
                "#B0BEC5"
               ]
              ]
             }
            ],
            "label": "Topic 0",
            "method": "update"
           },
           {
            "args": [
             {
              "marker.color": [
               [
                "#B0BEC5",
                "red",
                "#B0BEC5",
                "#B0BEC5",
                "#B0BEC5"
               ]
              ]
             }
            ],
            "label": "Topic 1",
            "method": "update"
           },
           {
            "args": [
             {
              "marker.color": [
               [
                "#B0BEC5",
                "#B0BEC5",
                "red",
                "#B0BEC5",
                "#B0BEC5"
               ]
              ]
             }
            ],
            "label": "Topic 2",
            "method": "update"
           },
           {
            "args": [
             {
              "marker.color": [
               [
                "#B0BEC5",
                "#B0BEC5",
                "#B0BEC5",
                "red",
                "#B0BEC5"
               ]
              ]
             }
            ],
            "label": "Topic 3",
            "method": "update"
           },
           {
            "args": [
             {
              "marker.color": [
               [
                "#B0BEC5",
                "#B0BEC5",
                "#B0BEC5",
                "#B0BEC5",
                "red"
               ]
              ]
             }
            ],
            "label": "Topic 4",
            "method": "update"
           }
          ]
         }
        ],
        "template": {
         "data": {
          "bar": [
           {
            "error_x": {
             "color": "rgb(36,36,36)"
            },
            "error_y": {
             "color": "rgb(36,36,36)"
            },
            "marker": {
             "line": {
              "color": "white",
              "width": 0.5
             }
            },
            "type": "bar"
           }
          ],
          "barpolar": [
           {
            "marker": {
             "line": {
              "color": "white",
              "width": 0.5
             }
            },
            "type": "barpolar"
           }
          ],
          "carpet": [
           {
            "aaxis": {
             "endlinecolor": "rgb(36,36,36)",
             "gridcolor": "white",
             "linecolor": "white",
             "minorgridcolor": "white",
             "startlinecolor": "rgb(36,36,36)"
            },
            "baxis": {
             "endlinecolor": "rgb(36,36,36)",
             "gridcolor": "white",
             "linecolor": "white",
             "minorgridcolor": "white",
             "startlinecolor": "rgb(36,36,36)"
            },
            "type": "carpet"
           }
          ],
          "choropleth": [
           {
            "colorbar": {
             "outlinewidth": 1,
             "tickcolor": "rgb(36,36,36)",
             "ticks": "outside"
            },
            "type": "choropleth"
           }
          ],
          "contour": [
           {
            "colorbar": {
             "outlinewidth": 1,
             "tickcolor": "rgb(36,36,36)",
             "ticks": "outside"
            },
            "colorscale": [
             [
              0,
              "#440154"
             ],
             [
              0.1111111111111111,
              "#482878"
             ],
             [
              0.2222222222222222,
              "#3e4989"
             ],
             [
              0.3333333333333333,
              "#31688e"
             ],
             [
              0.4444444444444444,
              "#26828e"
             ],
             [
              0.5555555555555556,
              "#1f9e89"
             ],
             [
              0.6666666666666666,
              "#35b779"
             ],
             [
              0.7777777777777778,
              "#6ece58"
             ],
             [
              0.8888888888888888,
              "#b5de2b"
             ],
             [
              1,
              "#fde725"
             ]
            ],
            "type": "contour"
           }
          ],
          "contourcarpet": [
           {
            "colorbar": {
             "outlinewidth": 1,
             "tickcolor": "rgb(36,36,36)",
             "ticks": "outside"
            },
            "type": "contourcarpet"
           }
          ],
          "heatmap": [
           {
            "colorbar": {
             "outlinewidth": 1,
             "tickcolor": "rgb(36,36,36)",
             "ticks": "outside"
            },
            "colorscale": [
             [
              0,
              "#440154"
             ],
             [
              0.1111111111111111,
              "#482878"
             ],
             [
              0.2222222222222222,
              "#3e4989"
             ],
             [
              0.3333333333333333,
              "#31688e"
             ],
             [
              0.4444444444444444,
              "#26828e"
             ],
             [
              0.5555555555555556,
              "#1f9e89"
             ],
             [
              0.6666666666666666,
              "#35b779"
             ],
             [
              0.7777777777777778,
              "#6ece58"
             ],
             [
              0.8888888888888888,
              "#b5de2b"
             ],
             [
              1,
              "#fde725"
             ]
            ],
            "type": "heatmap"
           }
          ],
          "heatmapgl": [
           {
            "colorbar": {
             "outlinewidth": 1,
             "tickcolor": "rgb(36,36,36)",
             "ticks": "outside"
            },
            "colorscale": [
             [
              0,
              "#440154"
             ],
             [
              0.1111111111111111,
              "#482878"
             ],
             [
              0.2222222222222222,
              "#3e4989"
             ],
             [
              0.3333333333333333,
              "#31688e"
             ],
             [
              0.4444444444444444,
              "#26828e"
             ],
             [
              0.5555555555555556,
              "#1f9e89"
             ],
             [
              0.6666666666666666,
              "#35b779"
             ],
             [
              0.7777777777777778,
              "#6ece58"
             ],
             [
              0.8888888888888888,
              "#b5de2b"
             ],
             [
              1,
              "#fde725"
             ]
            ],
            "type": "heatmapgl"
           }
          ],
          "histogram": [
           {
            "marker": {
             "line": {
              "color": "white",
              "width": 0.6
             }
            },
            "type": "histogram"
           }
          ],
          "histogram2d": [
           {
            "colorbar": {
             "outlinewidth": 1,
             "tickcolor": "rgb(36,36,36)",
             "ticks": "outside"
            },
            "colorscale": [
             [
              0,
              "#440154"
             ],
             [
              0.1111111111111111,
              "#482878"
             ],
             [
              0.2222222222222222,
              "#3e4989"
             ],
             [
              0.3333333333333333,
              "#31688e"
             ],
             [
              0.4444444444444444,
              "#26828e"
             ],
             [
              0.5555555555555556,
              "#1f9e89"
             ],
             [
              0.6666666666666666,
              "#35b779"
             ],
             [
              0.7777777777777778,
              "#6ece58"
             ],
             [
              0.8888888888888888,
              "#b5de2b"
             ],
             [
              1,
              "#fde725"
             ]
            ],
            "type": "histogram2d"
           }
          ],
          "histogram2dcontour": [
           {
            "colorbar": {
             "outlinewidth": 1,
             "tickcolor": "rgb(36,36,36)",
             "ticks": "outside"
            },
            "colorscale": [
             [
              0,
              "#440154"
             ],
             [
              0.1111111111111111,
              "#482878"
             ],
             [
              0.2222222222222222,
              "#3e4989"
             ],
             [
              0.3333333333333333,
              "#31688e"
             ],
             [
              0.4444444444444444,
              "#26828e"
             ],
             [
              0.5555555555555556,
              "#1f9e89"
             ],
             [
              0.6666666666666666,
              "#35b779"
             ],
             [
              0.7777777777777778,
              "#6ece58"
             ],
             [
              0.8888888888888888,
              "#b5de2b"
             ],
             [
              1,
              "#fde725"
             ]
            ],
            "type": "histogram2dcontour"
           }
          ],
          "mesh3d": [
           {
            "colorbar": {
             "outlinewidth": 1,
             "tickcolor": "rgb(36,36,36)",
             "ticks": "outside"
            },
            "type": "mesh3d"
           }
          ],
          "parcoords": [
           {
            "line": {
             "colorbar": {
              "outlinewidth": 1,
              "tickcolor": "rgb(36,36,36)",
              "ticks": "outside"
             }
            },
            "type": "parcoords"
           }
          ],
          "pie": [
           {
            "automargin": true,
            "type": "pie"
           }
          ],
          "scatter": [
           {
            "marker": {
             "colorbar": {
              "outlinewidth": 1,
              "tickcolor": "rgb(36,36,36)",
              "ticks": "outside"
             }
            },
            "type": "scatter"
           }
          ],
          "scatter3d": [
           {
            "line": {
             "colorbar": {
              "outlinewidth": 1,
              "tickcolor": "rgb(36,36,36)",
              "ticks": "outside"
             }
            },
            "marker": {
             "colorbar": {
              "outlinewidth": 1,
              "tickcolor": "rgb(36,36,36)",
              "ticks": "outside"
             }
            },
            "type": "scatter3d"
           }
          ],
          "scattercarpet": [
           {
            "marker": {
             "colorbar": {
              "outlinewidth": 1,
              "tickcolor": "rgb(36,36,36)",
              "ticks": "outside"
             }
            },
            "type": "scattercarpet"
           }
          ],
          "scattergeo": [
           {
            "marker": {
             "colorbar": {
              "outlinewidth": 1,
              "tickcolor": "rgb(36,36,36)",
              "ticks": "outside"
             }
            },
            "type": "scattergeo"
           }
          ],
          "scattergl": [
           {
            "marker": {
             "colorbar": {
              "outlinewidth": 1,
              "tickcolor": "rgb(36,36,36)",
              "ticks": "outside"
             }
            },
            "type": "scattergl"
           }
          ],
          "scattermapbox": [
           {
            "marker": {
             "colorbar": {
              "outlinewidth": 1,
              "tickcolor": "rgb(36,36,36)",
              "ticks": "outside"
             }
            },
            "type": "scattermapbox"
           }
          ],
          "scatterpolar": [
           {
            "marker": {
             "colorbar": {
              "outlinewidth": 1,
              "tickcolor": "rgb(36,36,36)",
              "ticks": "outside"
             }
            },
            "type": "scatterpolar"
           }
          ],
          "scatterpolargl": [
           {
            "marker": {
             "colorbar": {
              "outlinewidth": 1,
              "tickcolor": "rgb(36,36,36)",
              "ticks": "outside"
             }
            },
            "type": "scatterpolargl"
           }
          ],
          "scatterternary": [
           {
            "marker": {
             "colorbar": {
              "outlinewidth": 1,
              "tickcolor": "rgb(36,36,36)",
              "ticks": "outside"
             }
            },
            "type": "scatterternary"
           }
          ],
          "surface": [
           {
            "colorbar": {
             "outlinewidth": 1,
             "tickcolor": "rgb(36,36,36)",
             "ticks": "outside"
            },
            "colorscale": [
             [
              0,
              "#440154"
             ],
             [
              0.1111111111111111,
              "#482878"
             ],
             [
              0.2222222222222222,
              "#3e4989"
             ],
             [
              0.3333333333333333,
              "#31688e"
             ],
             [
              0.4444444444444444,
              "#26828e"
             ],
             [
              0.5555555555555556,
              "#1f9e89"
             ],
             [
              0.6666666666666666,
              "#35b779"
             ],
             [
              0.7777777777777778,
              "#6ece58"
             ],
             [
              0.8888888888888888,
              "#b5de2b"
             ],
             [
              1,
              "#fde725"
             ]
            ],
            "type": "surface"
           }
          ],
          "table": [
           {
            "cells": {
             "fill": {
              "color": "rgb(237,237,237)"
             },
             "line": {
              "color": "white"
             }
            },
            "header": {
             "fill": {
              "color": "rgb(217,217,217)"
             },
             "line": {
              "color": "white"
             }
            },
            "type": "table"
           }
          ]
         },
         "layout": {
          "annotationdefaults": {
           "arrowhead": 0,
           "arrowwidth": 1
          },
          "autotypenumbers": "strict",
          "coloraxis": {
           "colorbar": {
            "outlinewidth": 1,
            "tickcolor": "rgb(36,36,36)",
            "ticks": "outside"
           }
          },
          "colorscale": {
           "diverging": [
            [
             0,
             "rgb(103,0,31)"
            ],
            [
             0.1,
             "rgb(178,24,43)"
            ],
            [
             0.2,
             "rgb(214,96,77)"
            ],
            [
             0.3,
             "rgb(244,165,130)"
            ],
            [
             0.4,
             "rgb(253,219,199)"
            ],
            [
             0.5,
             "rgb(247,247,247)"
            ],
            [
             0.6,
             "rgb(209,229,240)"
            ],
            [
             0.7,
             "rgb(146,197,222)"
            ],
            [
             0.8,
             "rgb(67,147,195)"
            ],
            [
             0.9,
             "rgb(33,102,172)"
            ],
            [
             1,
             "rgb(5,48,97)"
            ]
           ],
           "sequential": [
            [
             0,
             "#440154"
            ],
            [
             0.1111111111111111,
             "#482878"
            ],
            [
             0.2222222222222222,
             "#3e4989"
            ],
            [
             0.3333333333333333,
             "#31688e"
            ],
            [
             0.4444444444444444,
             "#26828e"
            ],
            [
             0.5555555555555556,
             "#1f9e89"
            ],
            [
             0.6666666666666666,
             "#35b779"
            ],
            [
             0.7777777777777778,
             "#6ece58"
            ],
            [
             0.8888888888888888,
             "#b5de2b"
            ],
            [
             1,
             "#fde725"
            ]
           ],
           "sequentialminus": [
            [
             0,
             "#440154"
            ],
            [
             0.1111111111111111,
             "#482878"
            ],
            [
             0.2222222222222222,
             "#3e4989"
            ],
            [
             0.3333333333333333,
             "#31688e"
            ],
            [
             0.4444444444444444,
             "#26828e"
            ],
            [
             0.5555555555555556,
             "#1f9e89"
            ],
            [
             0.6666666666666666,
             "#35b779"
            ],
            [
             0.7777777777777778,
             "#6ece58"
            ],
            [
             0.8888888888888888,
             "#b5de2b"
            ],
            [
             1,
             "#fde725"
            ]
           ]
          },
          "colorway": [
           "#1F77B4",
           "#FF7F0E",
           "#2CA02C",
           "#D62728",
           "#9467BD",
           "#8C564B",
           "#E377C2",
           "#7F7F7F",
           "#BCBD22",
           "#17BECF"
          ],
          "font": {
           "color": "rgb(36,36,36)"
          },
          "geo": {
           "bgcolor": "white",
           "lakecolor": "white",
           "landcolor": "white",
           "showlakes": true,
           "showland": true,
           "subunitcolor": "white"
          },
          "hoverlabel": {
           "align": "left"
          },
          "hovermode": "closest",
          "mapbox": {
           "style": "light"
          },
          "paper_bgcolor": "white",
          "plot_bgcolor": "white",
          "polar": {
           "angularaxis": {
            "gridcolor": "rgb(232,232,232)",
            "linecolor": "rgb(36,36,36)",
            "showgrid": false,
            "showline": true,
            "ticks": "outside"
           },
           "bgcolor": "white",
           "radialaxis": {
            "gridcolor": "rgb(232,232,232)",
            "linecolor": "rgb(36,36,36)",
            "showgrid": false,
            "showline": true,
            "ticks": "outside"
           }
          },
          "scene": {
           "xaxis": {
            "backgroundcolor": "white",
            "gridcolor": "rgb(232,232,232)",
            "gridwidth": 2,
            "linecolor": "rgb(36,36,36)",
            "showbackground": true,
            "showgrid": false,
            "showline": true,
            "ticks": "outside",
            "zeroline": false,
            "zerolinecolor": "rgb(36,36,36)"
           },
           "yaxis": {
            "backgroundcolor": "white",
            "gridcolor": "rgb(232,232,232)",
            "gridwidth": 2,
            "linecolor": "rgb(36,36,36)",
            "showbackground": true,
            "showgrid": false,
            "showline": true,
            "ticks": "outside",
            "zeroline": false,
            "zerolinecolor": "rgb(36,36,36)"
           },
           "zaxis": {
            "backgroundcolor": "white",
            "gridcolor": "rgb(232,232,232)",
            "gridwidth": 2,
            "linecolor": "rgb(36,36,36)",
            "showbackground": true,
            "showgrid": false,
            "showline": true,
            "ticks": "outside",
            "zeroline": false,
            "zerolinecolor": "rgb(36,36,36)"
           }
          },
          "shapedefaults": {
           "fillcolor": "black",
           "line": {
            "width": 0
           },
           "opacity": 0.3
          },
          "ternary": {
           "aaxis": {
            "gridcolor": "rgb(232,232,232)",
            "linecolor": "rgb(36,36,36)",
            "showgrid": false,
            "showline": true,
            "ticks": "outside"
           },
           "baxis": {
            "gridcolor": "rgb(232,232,232)",
            "linecolor": "rgb(36,36,36)",
            "showgrid": false,
            "showline": true,
            "ticks": "outside"
           },
           "bgcolor": "white",
           "caxis": {
            "gridcolor": "rgb(232,232,232)",
            "linecolor": "rgb(36,36,36)",
            "showgrid": false,
            "showline": true,
            "ticks": "outside"
           }
          },
          "title": {
           "x": 0.05
          },
          "xaxis": {
           "automargin": true,
           "gridcolor": "rgb(232,232,232)",
           "linecolor": "rgb(36,36,36)",
           "showgrid": false,
           "showline": true,
           "ticks": "outside",
           "title": {
            "standoff": 15
           },
           "zeroline": false,
           "zerolinecolor": "rgb(36,36,36)"
          },
          "yaxis": {
           "automargin": true,
           "gridcolor": "rgb(232,232,232)",
           "linecolor": "rgb(36,36,36)",
           "showgrid": false,
           "showline": true,
           "ticks": "outside",
           "title": {
            "standoff": 15
           },
           "zeroline": false,
           "zerolinecolor": "rgb(36,36,36)"
          }
         }
        },
        "title": {
         "font": {
          "color": "Black",
          "size": 22
         },
         "text": "<b>Intertopic Distance Map",
         "x": 0.5,
         "xanchor": "center",
         "y": 0.95,
         "yanchor": "top"
        },
        "width": 650,
        "xaxis": {
         "anchor": "y",
         "domain": [
          0,
          1
         ],
         "range": [
          -9.980525255203247,
          14.226296091079712
         ],
         "title": {
          "text": ""
         },
         "visible": false
        },
        "yaxis": {
         "anchor": "x",
         "domain": [
          0,
          1
         ],
         "range": [
          -15.019839477539062,
          11.736621809005737
         ],
         "title": {
          "text": ""
         },
         "visible": false
        }
       }
      }
     },
     "metadata": {},
     "output_type": "display_data"
    }
   ],
   "source": [
    "topic_model.visualize_topics()"
   ]
  },
  {
   "cell_type": "code",
   "execution_count": 24,
   "metadata": {},
   "outputs": [],
   "source": [
    "preds_df = pd.DataFrame(list(zip(topics, probs, docs)), columns = [\"topic\", \"prob\", \"doc\"])\n",
    "preds_df.to_csv(DATA_DIR / \"doc_topics.csv\", index=False)"
   ]
  },
  {
   "cell_type": "code",
   "execution_count": 15,
   "metadata": {},
   "outputs": [],
   "source": [
    "topic_dict = topic_model.get_topics()\n",
    "topic_dict_clean = {k: [tup[0] for tup in word_list] for k, word_list in topic_dict.items() if k != -1}\n",
    "pickle_object(topic_dict_clean, DATA_DIR / \"topic_dict.pkl\")"
   ]
  },
  {
   "cell_type": "code",
   "execution_count": 16,
   "metadata": {},
   "outputs": [
    {
     "data": {
      "text/plain": [
       "{-1: [('stk', 0.03187539136267379),\n",
       "  ('fandt', 0.028636827703240927),\n",
       "  ('retten', 0.026334731197899103),\n",
       "  ('sagsøgeren', 0.024490987745089433),\n",
       "  ('skatterådet', 0.024472563562004945),\n",
       "  ('skat', 0.023786131734937745),\n",
       "  ('kr', 0.02189166245869958),\n",
       "  ('sagen', 0.018884532431091453),\n",
       "  ('landsretten', 0.01829822263005172),\n",
       "  ('selskabet', 0.017723318903009332),\n",
       "  ('jf', 0.01677112374454011),\n",
       "  ('danmark', 0.016296933473401293),\n",
       "  ('anses', 0.01593309145386382),\n",
       "  ('spørger', 0.015778214047986752),\n",
       "  ('skatteyderen', 0.01563522152784892),\n",
       "  ('idet', 0.014497951646911051),\n",
       "  ('selskab', 0.014340868812810654),\n",
       "  ('forbindelse', 0.013995196463239701),\n",
       "  ('nr', 0.013559370035959325),\n",
       "  ('landsskatteretten', 0.013448290546233446),\n",
       "  ('bekræfte', 0.012468524168281998),\n",
       "  ('grundlag', 0.012194453867617012),\n",
       "  ('endvidere', 0.012153099198262563),\n",
       "  ('virksomhed', 0.011695388374274307),\n",
       "  ('000', 0.011621739671120051),\n",
       "  ('gældende', 0.01129413226434),\n",
       "  ('samt', 0.010930661854322456),\n",
       "  ('grund', 0.010751774920808265),\n",
       "  ('omfattet', 0.01061082035764546),\n",
       "  ('skatteforvaltningslovens', 0.010602089958615807)],\n",
       " 0: [('skatterådet', 0.051513809840827825),\n",
       "  ('sagen', 0.04033801281320028),\n",
       "  ('fandt', 0.03585853453604808),\n",
       "  ('retten', 0.03417857149541029),\n",
       "  ('sagsøgeren', 0.028948429274031625),\n",
       "  ('landsretten', 0.0262794585111366),\n",
       "  ('skat', 0.025725011501693075),\n",
       "  ('grundlag', 0.02502072412365564),\n",
       "  ('bekræfte', 0.023795567102443498),\n",
       "  ('hvorvidt', 0.021588791981901227),\n",
       "  ('skatteyderen', 0.020906720636859097),\n",
       "  ('spørger', 0.020340641383085795),\n",
       "  ('pr', 0.02000728008016022),\n",
       "  ('fradrag', 0.019951790856628366),\n",
       "  ('oktober', 0.018532066709259096),\n",
       "  ('godtgjort', 0.01831780980678133),\n",
       "  ('berettiget', 0.016476428376534458),\n",
       "  ('bekræfter', 0.01627782299951826),\n",
       "  ('udgifter', 0.015996419830325584),\n",
       "  ('skatteministeriet', 0.015715238448685536),\n",
       "  ('skøn', 0.015701334258387333),\n",
       "  ('landsskatteretten', 0.015588243857732137),\n",
       "  ('forbindelse', 0.015515593011337744),\n",
       "  ('følge', 0.015435962573217565),\n",
       "  ('byretten', 0.015152814536713322),\n",
       "  ('sagsøgerens', 0.014888152785185876),\n",
       "  ('spørgsmålet', 0.014605235852419315),\n",
       "  ('grundværdien', 0.014442599173930317),\n",
       "  ('angik', 0.014342982739646262),\n",
       "  ('selskab', 0.014147702560308251)],\n",
       " 1: [('byrettens', 0.3524655779295011),\n",
       "  ('dom', 0.30421013931943314),\n",
       "  ('stadfæstede', 0.2810666733771811),\n",
       "  ('landsretten', 0.21172772148430963),\n",
       "  ('br', 0.19289170301455463),\n",
       "  ('skatteministeriet', 0.17910659763147507),\n",
       "  ('stadfæstet', 0.11085018952471937),\n",
       "  ('frifindelse', 0.10392372527859085),\n",
       "  ('frifundet', 0.08542320453884018),\n",
       "  ('landsrettens', 0.07862008024730495),\n",
       "  ('resultat', 0.07196694555505526),\n",
       "  ('skm2015', 0.06437588608547251),\n",
       "  ('stadfæstelse', 0.06148669194798496),\n",
       "  ('skm2017', 0.0614415909795635),\n",
       "  ('højesteret', 0.05787964957294175),\n",
       "  ('nået', 0.0546314833406971),\n",
       "  ('dommen', 0.05417696793477845),\n",
       "  ('skm2013', 0.04843514403465201),\n",
       "  ('frifandt', 0.0474681236276901),\n",
       "  ('ølr', 0.04579863325398109),\n",
       "  ('baggrund', 0.04489649165081983),\n",
       "  ('skm2014', 0.04285373525739769),\n",
       "  ('skm2016', 0.04280913262243903),\n",
       "  ('hele', 0.035510707119513235),\n",
       "  ('østre', 0.035019764013321346),\n",
       "  ('satserne', 0.03198227633339229),\n",
       "  ('enig', 0.03150692906364804),\n",
       "  ('frifindende', 0.029759132140498797),\n",
       "  ('byretten', 0.028284278374899136),\n",
       "  ('hjorte', 0.027665669065698152)],\n",
       " 2: [('stk', 0.13313227634765595),\n",
       "  ('skatterådet', 0.11272992126699398),\n",
       "  ('nr', 0.08960686780384595),\n",
       "  ('momslovens', 0.08472722705287121),\n",
       "  ('bekræfte', 0.08200821626759212),\n",
       "  ('jf', 0.06627929479916939),\n",
       "  ('spørger', 0.06458944803553202),\n",
       "  ('13', 0.06435063564523845),\n",
       "  ('omfattet', 0.05704251131260782),\n",
       "  ('bekræfter', 0.044077268633643876),\n",
       "  ('danmark', 0.04172410877195251),\n",
       "  ('spørgers', 0.04133419492186129),\n",
       "  ('anses', 0.03994362362996295),\n",
       "  ('litra', 0.03788868087333737),\n",
       "  ('selskabsskattelovens', 0.03522989464694475),\n",
       "  ('fast', 0.025364379414495836),\n",
       "  ('kildeskattelovens', 0.025064323992963374),\n",
       "  ('salg', 0.024514646198049495),\n",
       "  ('momsfritaget', 0.023708789552148217),\n",
       "  ('form', 0.020165052317989533),\n",
       "  ('11', 0.019885664362868875),\n",
       "  ('bekræftede', 0.019497183567758637),\n",
       "  ('levering', 0.01942351097157209),\n",
       "  ('moms', 0.018942757124414643),\n",
       "  ('momsfritagelsen', 0.016866606660937263),\n",
       "  ('pkt', 0.01623560581924971),\n",
       "  ('forbindelse', 0.016212500974321944),\n",
       "  ('ligningslovens', 0.015951035199754632),\n",
       "  ('reglerne', 0.015815694228669252),\n",
       "  ('henhold', 0.015611470822962605)],\n",
       " 3: [('frifundet', 2.0081473789010196),\n",
       "  ('skatteministeriet', 1.6403914654650567),\n",
       "  ('baggrund', 0.2163681205952681),\n",
       "  ('ministeriet', 0.07522933024201411),\n",
       "  ('heraf', 0.05477539003025377),\n",
       "  ('følge', 0.041746716171669085),\n",
       "  ('skat', 0.018939005613832473),\n",
       "  ('frifandt', 0.011422638915410082),\n",
       "  ('stadfæstet', 0.011008638790080088),\n",
       "  ('skatteministeriets', 0.010728449445742473),\n",
       "  ('skatteministeret', 0.009974966438302243),\n",
       "  ('fejloprettet', 0.009974966438302243),\n",
       "  ('revideret', 0.008756781586703042),\n",
       "  ('dom', 0.008384661985066792),\n",
       "  ('arrest', 0.007791392932337393),\n",
       "  ('retningslinjerne', 0.007258760416019014),\n",
       "  ('herfra', 0.007046842967146529),\n",
       "  ('følgelig', 0.007016007009491634),\n",
       "  ('bemærkninger', 0.006733420345056255),\n",
       "  ('nægtede', 0.006711722091461903),\n",
       "  ('ugyldighed', 0.006573208080738193),\n",
       "  ('bortset', 0.006519935126593698),\n",
       "  ('begrundelsen', 0.006348310563921672),\n",
       "  ('sagsøgte', 0.005885370348532892),\n",
       "  ('banken', 0.005607819426372542),\n",
       "  ('landsrettens', 0.005589700544823566),\n",
       "  ('skattestyrelsen', 0.005531868191071745),\n",
       "  ('straffen', 0.0054020255884983815),\n",
       "  ('hertil', 0.005177439624467307),\n",
       "  ('grunde', 0.005166292735603233)],\n",
       " 4: [('fængsel', 0.1214117930846259),\n",
       "  ('000', 0.11905255315709183),\n",
       "  ('tillægsbøde', 0.11341592155744881),\n",
       "  ('kr', 0.1132049925604877),\n",
       "  ('byretten', 0.08995629653051297),\n",
       "  ('skyldig', 0.08439914419315551),\n",
       "  ('idømtes', 0.07986034595521545),\n",
       "  ('samt', 0.07372823142164876),\n",
       "  ('betinget', 0.06449546452105266),\n",
       "  ('fandt', 0.06153705218851921),\n",
       "  ('byretsdommen', 0.06127328262968319),\n",
       "  ('landsretten', 0.05811619934384014),\n",
       "  ('stadfæstede', 0.056703651361129134),\n",
       "  ('straffen', 0.056535923789157706),\n",
       "  ('ubetinget', 0.052237798310792935),\n",
       "  ('måneders', 0.045079852443083206),\n",
       "  ('år', 0.0442014049111744),\n",
       "  ('måneder', 0.0404100338052492),\n",
       "  ('fastsat', 0.04004794534052562),\n",
       "  ('tiltalen', 0.03623588755118221),\n",
       "  ('tillægsbøden', 0.03121065130545848),\n",
       "  ('t1', 0.03081915360718826),\n",
       "  ('momssvig', 0.028571737463925977),\n",
       "  ('retten', 0.026629165150146992),\n",
       "  ('vægt', 0.026367537228912538),\n",
       "  ('samfundstjeneste', 0.02628373796692704),\n",
       "  ('lagde', 0.02623473812300311),\n",
       "  ('skat', 0.02613755034487077),\n",
       "  ('forsætlig', 0.02544849997812441),\n",
       "  ('dages', 0.02425883314553954)]}"
      ]
     },
     "execution_count": 16,
     "metadata": {},
     "output_type": "execute_result"
    }
   ],
   "source": [
    "topic_dict"
   ]
  },
  {
   "cell_type": "code",
   "execution_count": 25,
   "metadata": {},
   "outputs": [
    {
     "name": "stderr",
     "output_type": "stream",
     "text": [
      "C:\\Users\\jhr\\Anaconda3\\envs\\bertopic_explore\\lib\\site-packages\\scipy\\sparse\\_index.py:125: SparseEfficiencyWarning:\n",
      "\n",
      "Changing the sparsity structure of a csr_matrix is expensive. lil_matrix is more efficient.\n",
      "\n"
     ]
    }
   ],
   "source": [
    "# Saving the model\n",
    "topic_model.save(str(MODEL_PATH / \"topic_model\"), save_embedding_model=False)"
   ]
  }
 ],
 "metadata": {
  "interpreter": {
   "hash": "d6f86e4359b2b5cf5d398b363c816bb50d8f4fd2c9e9291492e7c9219700f63c"
  },
  "kernelspec": {
   "display_name": "Python 3.8.11 64-bit ('bertopic_explore': conda)",
   "name": "python3"
  },
  "language_info": {
   "codemirror_mode": {
    "name": "ipython",
    "version": 3
   },
   "file_extension": ".py",
   "mimetype": "text/x-python",
   "name": "python",
   "nbconvert_exporter": "python",
   "pygments_lexer": "ipython3",
   "version": "3.8.11"
  },
  "orig_nbformat": 4
 },
 "nbformat": 4,
 "nbformat_minor": 2
}
