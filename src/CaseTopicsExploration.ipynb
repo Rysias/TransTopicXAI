{
 "cells": [
  {
   "cell_type": "markdown",
   "source": [
    "# Creating topics for the cases\r\n",
    "This notebooks explores the topics we can create from the cases. It's gonna involve a lot of trial and error, but it will hopefully be well-documented"
   ],
   "metadata": {}
  },
  {
   "cell_type": "code",
   "execution_count": 13,
   "source": [
    "import pickle\r\n",
    "import requests\r\n",
    "import random\r\n",
    "import numpy as np\r\n",
    "from pathlib import Path\r\n",
    "from bertopic import BERTopic\r\n",
    "from sklearn.feature_extraction.text import CountVectorizer"
   ],
   "outputs": [],
   "metadata": {}
  },
  {
   "cell_type": "code",
   "execution_count": 9,
   "source": [
    "def read_pickle(file_path):\r\n",
    "    with open(file_path, \"rb\") as f:\r\n",
    "        return pickle.load(f)\r\n",
    "\r\n",
    "def flatten_embeddings(embedding_dict):\r\n",
    "    \"\"\" Creates a big matrix with all the embeddings from the dict \"\"\"\r\n",
    "    return np.vstack(embedding_dict.values())\r\n",
    "\r\n",
    "def flatten_list(lst):\r\n",
    "    return [elem for sublist in lst for elem in sublist]\r\n",
    "\r\n",
    "def get_paragraphs(paragraph_dict):\r\n",
    "    return flatten_list(list(paragraph_dict.values()))\r\n",
    "\r\n",
    "\r\n",
    "def load_text_url(text_url: str): \r\n",
    "    \"\"\"Inputs a URL of a newline seperated text-file and returns a list\"\"\"\r\n",
    "    response = requests.get(text_url)\r\n",
    "    return response.text.split(\"\\n\")"
   ],
   "outputs": [],
   "metadata": {}
  },
  {
   "cell_type": "markdown",
   "source": [
    "## Loading the data"
   ],
   "metadata": {}
  },
  {
   "cell_type": "code",
   "execution_count": 10,
   "source": [
    "DATA_DIR = Path(\"../../BscThesisData/data\")\r\n",
    "embedding_dict = read_pickle(DATA_DIR / \"embedding_dict.pkl\")\r\n",
    "clean_paragraphs = read_pickle(DATA_DIR / \"paragraph_dict.pkl\")"
   ],
   "outputs": [],
   "metadata": {}
  },
  {
   "cell_type": "markdown",
   "source": [
    "Now it's time to extract the embeddings for BERTopic to process"
   ],
   "metadata": {}
  },
  {
   "cell_type": "code",
   "execution_count": 14,
   "source": [
    "embeddings = flatten_embeddings(embedding_dict)\r\n",
    "docs = get_paragraphs(clean_paragraphs)\r\n",
    "print(random.sample(docs, 5))"
   ],
   "outputs": [
    {
     "output_type": "stream",
     "name": "stdout",
     "text": [
      "['Sagens ene spørgsmål var, om skatteyderen var berettiget til et nedslag i beregningsgrundlaget for rådighedsbeskatning af fri bolig, fordi der var indrettet hjemmekontor i en villa, som skatteyderen fik stillet til rådighed af et selskab, som han var hovedaktionær og direktør i.', 'Sagen angik, om de forhøjede parkeringsafgifter/kontrolafgifter, som appellanten, et parkeringsselskab, opkræver af bilister, der parkerer deres bil i strid med forskrifterne i privatejede parkeringsanlæg, som appellanten er operatør på, udgør vederlag for en momspligtig udlejning af parkeringsplads, jf. momslovens § 4, stk. 1, 1. pkt., jf. § 13, stk. 1, nr. 8, 2. pkt. Sagen angik 13 nærmere opregnede tilfælde, hvor appellanten opkræver sådanne forhøjede parkeringsafgifter eller kontrolafgifter.', 'Herefter fandt retten det ikke bevist, at boligselskabet skulle betale advokatselskabets honorar, hvorfor betingelsen i skatteforvaltningslovens § 52, stk. 1, ikke var opfyldt.', 'Med virkning fra d. 1. juli 2014 kan overførsler og flytninger mellem pengeinstitutter af kapital-, rate- og aldersopsparinger i pengeinstitutter alene ske efter reglerne i pensionsbeskatningslovens § 41 og § 41 A.Den hidtidige særlige praksis om, at kapital-, rate- og aldersopsparinger uanset reglerne i § 41 og § 41 A altid kan flyttes til et andet pengeinstitut eller en anden kapitalpensionsfond, når pensionsopspareren (kontohaveren) flytter hele sin opsparing i pensionsøjemed, rateopsparing  eller aldersopsparing fra et pengeinstitut m.fl. til et andet pengeinstitut m.fl. ophæves.', '\"Det er imidlertid sagsøgeren, der har haft ansvaret for rettidig indbetaling af skyldigt momstilsvar, og retten finder ikke, at sagsøgte har været forpligtet til straks efter forfaldsdatoen eller på et tidligere tidspunkt end sket... at kræve betaling, og der er således ikke tale om, at de tilskrevne renter er udløst af fejlen.\"']\n"
     ]
    }
   ],
   "metadata": {}
  },
  {
   "cell_type": "markdown",
   "source": [
    "### Now we initialize the models"
   ],
   "metadata": {}
  },
  {
   "cell_type": "markdown",
   "source": [
    "# Load Cleaning Models"
   ],
   "metadata": {}
  },
  {
   "cell_type": "code",
   "execution_count": 15,
   "source": [
    "STOP_WORD_URL = \"https://gist.githubusercontent.com/berteltorp/0cf8a0c7afea7f25ed754f24cfc2467b/raw/305d8e3930cc419e909d49d4b489c9773f75b2d6/stopord.txt\"\r\n",
    "STOP_WORDS = load_text_url(STOP_WORD_URL)\r\n",
    "vectorizer_model = CountVectorizer(stop_words=STOP_WORDS)"
   ],
   "outputs": [],
   "metadata": {}
  },
  {
   "cell_type": "code",
   "execution_count": 25,
   "source": [
    "# Powering up the transformer!\r\n",
    "topic_model = BERTopic(\"Maltehb/-l-ctra-danish-electra-small-cased\", vectorizer_model=vectorizer_model, nr_topics=5)"
   ],
   "outputs": [],
   "metadata": {}
  },
  {
   "cell_type": "code",
   "execution_count": 26,
   "source": [
    "topics, probs = topic_model.fit_transform(docs, embeddings)"
   ],
   "outputs": [],
   "metadata": {}
  },
  {
   "cell_type": "code",
   "execution_count": 27,
   "source": [
    "topic_model.visualize_topics()"
   ],
   "outputs": [],
   "metadata": {}
  }
 ],
 "metadata": {
  "orig_nbformat": 4,
  "language_info": {
   "name": "python",
   "version": "3.8.11",
   "mimetype": "text/x-python",
   "codemirror_mode": {
    "name": "ipython",
    "version": 3
   },
   "pygments_lexer": "ipython3",
   "nbconvert_exporter": "python",
   "file_extension": ".py"
  },
  "kernelspec": {
   "name": "python3",
   "display_name": "Python 3.8.11 64-bit ('bertopic_explore': conda)"
  },
  "interpreter": {
   "hash": "d6f86e4359b2b5cf5d398b363c816bb50d8f4fd2c9e9291492e7c9219700f63c"
  }
 },
 "nbformat": 4,
 "nbformat_minor": 2
}