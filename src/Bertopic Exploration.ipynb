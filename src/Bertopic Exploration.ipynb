{
 "cells": [
  {
   "cell_type": "markdown",
   "id": "a99a941b",
   "metadata": {},
   "source": [
    "# Exploration\n",
    "Initial exploration of the BERTopic package for my b.sc. thesis project.\n",
    "\n",
    "## Main goals of exploration: \n",
    "- Looking at computational cost (is it feasible to run on a CPU?)\n",
    "- Exploring flexibility (how much info can I get out?)\n",
    "- Familiarizing myself with the API \n",
    "    \n",
    "## Initial Results: \n",
    "    - Default parameters works pretty badly with small-ish data\n",
    "    - Relatively easy to use"
   ]
  },
  {
   "cell_type": "code",
   "execution_count": 12,
   "id": "13dc70c8",
   "metadata": {},
   "outputs": [],
   "source": [
    "import random\n",
    "import numpy as np\n",
    "import pandas as pd\n",
    "from umap import UMAP\n",
    "from bertopic import BERTopic\n",
    "from sentence_transformers import SentenceTransformer\n",
    "from sklearn.datasets import fetch_20newsgroups\n",
    "from typing import List, Tuple, Union, Mapping, Any"
   ]
  },
  {
   "cell_type": "markdown",
   "id": "62d3ab25",
   "metadata": {},
   "source": [
    "#### Helper functions"
   ]
  },
  {
   "cell_type": "code",
   "execution_count": 59,
   "id": "788f41c6",
   "metadata": {},
   "outputs": [],
   "source": [
    "def weighted_mean(X, weights):\n",
    "    return np.dot(X.T, weights) / np.sum(weights)\n",
    "\n",
    "\n",
    "def get_unique_topics(topic_model):\n",
    "    topic_info = topic_model.get_topic_info()\n",
    "    return topic_info[\"Topic\"].unique()\n",
    "\n",
    "\n",
    "def find_centroid(embeddings: np.ndarray, topics: np.ndarray, probs: np.ndarray, target_topic: int):\n",
    "    \"\"\"\n",
    "    Arguments:\n",
    "        embeddings: 2d with dimensions (num_documents, num_dimensions)\n",
    "        topics: list of length num documents\n",
    "        probs: np.array of length num_documents showing the probability of the assigned topic\n",
    "        target_topic: the topic, we want to find the centroid for\n",
    "    returns: \n",
    "        The centroid for the cluster\n",
    "    \"\"\"\n",
    "    # Filtering the embeddings\n",
    "    filtered_embeddings = embeddings[topics == target_topic, :]\n",
    "    filtered_probs = probs[topics == target_topic]\n",
    "\n",
    "    # Calculating the centroid\n",
    "    return weighted_mean(filtered_embeddings, filtered_probs)"
   ]
  },
  {
   "cell_type": "markdown",
   "id": "fb2d1b7d",
   "metadata": {},
   "source": [
    "### Getting example data"
   ]
  },
  {
   "cell_type": "code",
   "execution_count": 2,
   "id": "315fc222",
   "metadata": {},
   "outputs": [
    {
     "name": "stdout",
     "output_type": "stream",
     "text": [
      "fetching the data\n"
     ]
    }
   ],
   "source": [
    "# Getting the Data #\n",
    "print(\"fetching the data\")\n",
    "docs = fetch_20newsgroups(subset='test',  remove=('headers', 'footers', 'quotes'))['data']\n",
    "docs = random.sample(docs, 1000)"
   ]
  },
  {
   "cell_type": "markdown",
   "id": "e6b107f7",
   "metadata": {},
   "source": [
    "### Initializing model\n",
    "Fastest one I could find on sentence_transformers"
   ]
  },
  {
   "cell_type": "code",
   "execution_count": 13,
   "id": "f45d577c",
   "metadata": {},
   "outputs": [
    {
     "name": "stdout",
     "output_type": "stream",
     "text": [
      "loading model\n",
      "creating embeddings\n",
      "all done!\n",
      "   Topic  Count                        Name\n",
      "0      0    965             0_the_to_of_and\n",
      "1      1     35  1_me_subscribe_mistake_yes\n"
     ]
    }
   ],
   "source": [
    "print(\"loading model\")\n",
    "topic_model = BERTopic() \n",
    "sentence_model = SentenceTransformer(\"paraphrase-MiniLM-L6-v2\")\n",
    "print(\"creating embeddings\")\n",
    "embeddings = sentence_model.encode(docs, show_progress_bar=True)\n",
    "topics, probs = topic_model.fit_transform(docs, embeddings=embeddings)\n",
    "print(\"all done!\")\n",
    "print(topic_model.get_topic_info())"
   ]
  },
  {
   "cell_type": "markdown",
   "id": "a39e4187",
   "metadata": {},
   "source": [
    "### Finding the centroids example\n",
    "Below I'll find the centroids of topic one. It will be based on the full embeddings (for now). "
   ]
  },
  {
   "cell_type": "code",
   "execution_count": 33,
   "id": "09979975",
   "metadata": {},
   "outputs": [],
   "source": [
    "# Filtering the embeddings\n",
    "filtered_embeddings = embeddings[np.array(topics) == 1, :]\n",
    "filtered_probs = probs[np.array(topics) == 1]\n",
    "\n",
    "# Calculating the centroid\n",
    "centroid = weighted_mean(filtered_embeddings, filtered_probs)\n",
    "assert centroid.shape == (filtered_embeddings.shape[1], )  # We expect a (n, )-tuple with n being the dimensionality of the embeddings"
   ]
  },
  {
   "cell_type": "markdown",
   "id": "f3dcaa69",
   "metadata": {},
   "source": [
    "### Finding all centroids (non-optimized)\n",
    "The above method seems to work fairly well. I'll try to calculate all topics below (in a slow-ish for loop)"
   ]
  },
  {
   "cell_type": "code",
   "execution_count": 69,
   "id": "c3f5981f",
   "metadata": {},
   "outputs": [],
   "source": [
    "unique_topics = get_unique_topics(topic_model)\n",
    "centroids = np.zeros((len(unique_topics),embeddings.shape[1])) # Centroids need dimensions (number of topics, embedding-dimensionality)\n",
    "topics = np.array(topics)\n",
    "for i, topic in enumerate(unique_topics):\n",
    "    centroids[i, :] += find_centroid(embeddings, topics, probs, topic)\n",
    "    \n",
    "np.testing.assert_array_equal(centroids[1, :], find_centroid(embeddings, topics, probs, 1))"
   ]
  },
  {
   "cell_type": "markdown",
   "id": "04ef110f",
   "metadata": {},
   "source": [
    "### Sanity checking distance calculations\n"
   ]
  }
 ],
 "metadata": {
  "kernelspec": {
   "display_name": "Python 3 (ipykernel)",
   "language": "python",
   "name": "python3"
  },
  "language_info": {
   "codemirror_mode": {
    "name": "ipython",
    "version": 3
   },
   "file_extension": ".py",
   "mimetype": "text/x-python",
   "name": "python",
   "nbconvert_exporter": "python",
   "pygments_lexer": "ipython3",
   "version": "3.8.11"
  }
 },
 "nbformat": 4,
 "nbformat_minor": 5
}
