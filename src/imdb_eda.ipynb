{
 "cells": [
  {
   "cell_type": "markdown",
   "metadata": {},
   "source": [
    "# IMDB EDA\n",
    "Initial exploration of the imdb data with the following goals: \n",
    "- What columns exist in the data? \n",
    "- How much? \n",
    "- How long are the documents? \n",
    "\n",
    "### Important notes\n",
    "- Raw data is in `../data/aclimdb_v1.tar.gz`\n",
    "- Lit review on preprocessing long data "
   ]
  },
  {
   "cell_type": "code",
   "execution_count": 1,
   "metadata": {},
   "outputs": [],
   "source": [
    "from pathlib import Path\n",
    "from typing import Dict, Union, List\n",
    "from nltk.tokenize import word_tokenize\n",
    "import tarfile\n",
    "import numpy as np\n",
    "import re\n",
    "import pandas as pd\n",
    "import fileinput as fi\n",
    "\n",
    "DATA_DIR = Path(\"../data/\")"
   ]
  },
  {
   "cell_type": "code",
   "execution_count": 2,
   "metadata": {},
   "outputs": [],
   "source": [
    "def glob_text_dat(dr: Path) -> List[Path]:\n",
    "    return list(dr.glob(\"*.txt\"))\n",
    "\n",
    "def glob_all_reviews(dr: Path) -> List[Path]:\n",
    "    return glob_text_dat(dr / \"pos\") + glob_text_dat(dr / \"neg\")\n",
    "\n",
    "def read_review(review_path: Path) -> str:\n",
    "    with open(review_path, \"r\", encoding=\"utf8\") as f:\n",
    "        return f.readline()\n",
    "\n",
    "def review_to_row(line: str, review_path: Path) -> Dict[str, Union[str, int]]:\n",
    "    review_id = review_path.name[:-4]\n",
    "    label = 1 if review_path.parent.name == \"pos\" else 0\n",
    "    origin = review_path.parent.parent.name\n",
    "    return {\"id\": review_id, \"origin\": origin, \"text\": line, \"label\": label}\n",
    "\n",
    "    \n",
    "def get_movie_id(movie_url: str) -> str:\n",
    "    return re.search(\"tt\\d+\", movie_url).group()"
   ]
  },
  {
   "cell_type": "code",
   "execution_count": 13,
   "metadata": {},
   "outputs": [],
   "source": [
    "# Unzipping the data files :)\n",
    "data_path = next(DATA_DIR.glob(\"*tar.gz\"))\n",
    "\n",
    "if not (DATA_DIR / \"aclimdb\").exists():\n",
    "    with tarfile.open(data_path, 'r:gz') as tar:\n",
    "        tar.extractall(path = DATA_DIR)\n",
    "                "
   ]
  },
  {
   "cell_type": "markdown",
   "metadata": {},
   "source": [
    "## Create useful training data \n",
    "Now that they are unzipped, I will put them into a pandas dataframe which is easier to load :))"
   ]
  },
  {
   "cell_type": "code",
   "execution_count": 3,
   "metadata": {},
   "outputs": [],
   "source": [
    "\n",
    "MAIN_DIR = DATA_DIR / \"aclimdb\"\n",
    "\n",
    "test_paths = glob_all_reviews(MAIN_DIR / \"test\")\n",
    "train_paths = glob_all_reviews(MAIN_DIR / \"train\")\n",
    "all_paths = test_paths + train_paths"
   ]
  },
  {
   "cell_type": "code",
   "execution_count": 7,
   "metadata": {},
   "outputs": [
    {
     "name": "stdout",
     "output_type": "stream",
     "text": [
      "done processing 5000 files\n",
      "done processing 10000 files\n",
      "done processing 15000 files\n",
      "done processing 20000 files\n",
      "done processing 25000 files\n",
      "done processing 30000 files\n",
      "done processing 35000 files\n",
      "done processing 40000 files\n",
      "done processing 45000 files\n",
      "done processing 50000 files\n"
     ]
    }
   ],
   "source": [
    "i = 0\n",
    "review_list = [dict.fromkeys([\"id\", \"origin\", \"text\", \"label\"]) for _ in range(len(all_paths))]\n",
    "with fi.input(all_paths, openhook=fi.hook_encoded(\"utf-8\")) as f:\n",
    "    for line in f:\n",
    "        review_list[i] = review_to_row(line, f.filename())\n",
    "        i += 1\n",
    "        if i % 5000 == 0:\n",
    "            print(f\"done processing {i} files\")"
   ]
  },
  {
   "cell_type": "code",
   "execution_count": 8,
   "metadata": {},
   "outputs": [],
   "source": [
    "all_data = pd.DataFrame.from_records(review_list)\n",
    "all_data.to_csv(DATA_DIR / \"all_data.csv\")"
   ]
  },
  {
   "cell_type": "code",
   "execution_count": 4,
   "metadata": {},
   "outputs": [],
   "source": [
    "all_data = pd.read_csv(DATA_DIR / \"all_data.csv\")"
   ]
  },
  {
   "cell_type": "markdown",
   "metadata": {},
   "source": [
    "## Splitting into train test\n",
    "Now I split into test set making sure not to have leakage for movies :))"
   ]
  },
  {
   "cell_type": "code",
   "execution_count": 5,
   "metadata": {},
   "outputs": [],
   "source": [
    "all_movies = pd.DataFrame(columns = [\"movie_id\", \"source\", \"linenum\"], index = range(len(test_paths)))\n",
    "with fi.input((MAIN_DIR / \"test\").glob(\"*.txt\"), openhook=fi.hook_encoded(\"utf-8\")) as f:\n",
    "    for i, line in enumerate(f):\n",
    "        all_movies.loc[i, \"movie_id\"] = line\n",
    "        all_movies.loc[i, \"linenum\"] = f.filelineno() - 1\n",
    "        all_movies.loc[i, \"source\"] = f.filename().name\n",
    "all_movies[\"movie_id\"] = all_movies[\"movie_id\"].str.extract(\"tt(\\d+)\").values\n",
    "all_movies[\"source\"] = all_movies[\"source\"].str.contains(\"pos\").astype(int)"
   ]
  },
  {
   "cell_type": "code",
   "execution_count": 6,
   "metadata": {},
   "outputs": [],
   "source": [
    "# Randomly choose N hundred movies\n",
    "N = 700\n",
    "unique_movies = all_movies[\"movie_id\"].unique()\n",
    "np.random.seed(42)\n",
    "target_movies = np.random.choice(unique_movies, N)\n",
    "\n",
    "# Create ids\n",
    "test_movies = all_movies[all_movies[\"movie_id\"].isin(target_movies)]\n",
    "test_ids = test_movies[\"source\"].astype(str) + \"_\" + test_movies[\"linenum\"].astype(str)"
   ]
  },
  {
   "cell_type": "code",
   "execution_count": 7,
   "metadata": {},
   "outputs": [],
   "source": [
    "all_data[\"test_id\"] = all_data[\"label\"].astype(str) + \"_\" + pd.Series(all_data[\"id\"].str.extract(\"(\\d+)_\\d+\").values.reshape((-1, )))\n",
    "all_data.loc[all_data[\"origin\"] == \"train\", \"test_id\"]  = None"
   ]
  },
  {
   "cell_type": "code",
   "execution_count": 8,
   "metadata": {},
   "outputs": [
    {
     "data": {
      "text/html": [
       "<div>\n",
       "<style scoped>\n",
       "    .dataframe tbody tr th:only-of-type {\n",
       "        vertical-align: middle;\n",
       "    }\n",
       "\n",
       "    .dataframe tbody tr th {\n",
       "        vertical-align: top;\n",
       "    }\n",
       "\n",
       "    .dataframe thead th {\n",
       "        text-align: right;\n",
       "    }\n",
       "</style>\n",
       "<table border=\"1\" class=\"dataframe\">\n",
       "  <thead>\n",
       "    <tr style=\"text-align: right;\">\n",
       "      <th></th>\n",
       "      <th>Unnamed: 0</th>\n",
       "      <th>id</th>\n",
       "      <th>origin</th>\n",
       "      <th>text</th>\n",
       "      <th>label</th>\n",
       "      <th>test_id</th>\n",
       "    </tr>\n",
       "  </thead>\n",
       "  <tbody>\n",
       "    <tr>\n",
       "      <th>0</th>\n",
       "      <td>0</td>\n",
       "      <td>0_10</td>\n",
       "      <td>test</td>\n",
       "      <td>I went and saw this movie last night after bei...</td>\n",
       "      <td>1</td>\n",
       "      <td>1_0</td>\n",
       "    </tr>\n",
       "    <tr>\n",
       "      <th>1</th>\n",
       "      <td>1</td>\n",
       "      <td>10000_7</td>\n",
       "      <td>test</td>\n",
       "      <td>Actor turned director Bill Paxton follows up h...</td>\n",
       "      <td>1</td>\n",
       "      <td>1_10000</td>\n",
       "    </tr>\n",
       "    <tr>\n",
       "      <th>2</th>\n",
       "      <td>2</td>\n",
       "      <td>10001_9</td>\n",
       "      <td>test</td>\n",
       "      <td>As a recreational golfer with some knowledge o...</td>\n",
       "      <td>1</td>\n",
       "      <td>1_10001</td>\n",
       "    </tr>\n",
       "    <tr>\n",
       "      <th>3</th>\n",
       "      <td>3</td>\n",
       "      <td>10002_8</td>\n",
       "      <td>test</td>\n",
       "      <td>I saw this film in a sneak preview, and it is ...</td>\n",
       "      <td>1</td>\n",
       "      <td>1_10002</td>\n",
       "    </tr>\n",
       "    <tr>\n",
       "      <th>4</th>\n",
       "      <td>4</td>\n",
       "      <td>10003_8</td>\n",
       "      <td>test</td>\n",
       "      <td>Bill Paxton has taken the true story of the 19...</td>\n",
       "      <td>1</td>\n",
       "      <td>1_10003</td>\n",
       "    </tr>\n",
       "    <tr>\n",
       "      <th>...</th>\n",
       "      <td>...</td>\n",
       "      <td>...</td>\n",
       "      <td>...</td>\n",
       "      <td>...</td>\n",
       "      <td>...</td>\n",
       "      <td>...</td>\n",
       "    </tr>\n",
       "    <tr>\n",
       "      <th>49995</th>\n",
       "      <td>49995</td>\n",
       "      <td>9998_4</td>\n",
       "      <td>train</td>\n",
       "      <td>Towards the end of the movie, I felt it was to...</td>\n",
       "      <td>0</td>\n",
       "      <td>None</td>\n",
       "    </tr>\n",
       "    <tr>\n",
       "      <th>49996</th>\n",
       "      <td>49996</td>\n",
       "      <td>9999_3</td>\n",
       "      <td>train</td>\n",
       "      <td>This is the kind of movie that my enemies cont...</td>\n",
       "      <td>0</td>\n",
       "      <td>None</td>\n",
       "    </tr>\n",
       "    <tr>\n",
       "      <th>49997</th>\n",
       "      <td>49997</td>\n",
       "      <td>999_3</td>\n",
       "      <td>train</td>\n",
       "      <td>I saw 'Descent' last night at the Stockholm Fi...</td>\n",
       "      <td>0</td>\n",
       "      <td>None</td>\n",
       "    </tr>\n",
       "    <tr>\n",
       "      <th>49998</th>\n",
       "      <td>49998</td>\n",
       "      <td>99_1</td>\n",
       "      <td>train</td>\n",
       "      <td>Some films that you pick up for a pound turn o...</td>\n",
       "      <td>0</td>\n",
       "      <td>None</td>\n",
       "    </tr>\n",
       "    <tr>\n",
       "      <th>49999</th>\n",
       "      <td>49999</td>\n",
       "      <td>9_1</td>\n",
       "      <td>train</td>\n",
       "      <td>This is one of the dumbest films, I've ever se...</td>\n",
       "      <td>0</td>\n",
       "      <td>None</td>\n",
       "    </tr>\n",
       "  </tbody>\n",
       "</table>\n",
       "<p>50000 rows × 6 columns</p>\n",
       "</div>"
      ],
      "text/plain": [
       "       Unnamed: 0       id origin  \\\n",
       "0               0     0_10   test   \n",
       "1               1  10000_7   test   \n",
       "2               2  10001_9   test   \n",
       "3               3  10002_8   test   \n",
       "4               4  10003_8   test   \n",
       "...           ...      ...    ...   \n",
       "49995       49995   9998_4  train   \n",
       "49996       49996   9999_3  train   \n",
       "49997       49997    999_3  train   \n",
       "49998       49998     99_1  train   \n",
       "49999       49999      9_1  train   \n",
       "\n",
       "                                                    text  label  test_id  \n",
       "0      I went and saw this movie last night after bei...      1      1_0  \n",
       "1      Actor turned director Bill Paxton follows up h...      1  1_10000  \n",
       "2      As a recreational golfer with some knowledge o...      1  1_10001  \n",
       "3      I saw this film in a sneak preview, and it is ...      1  1_10002  \n",
       "4      Bill Paxton has taken the true story of the 19...      1  1_10003  \n",
       "...                                                  ...    ...      ...  \n",
       "49995  Towards the end of the movie, I felt it was to...      0     None  \n",
       "49996  This is the kind of movie that my enemies cont...      0     None  \n",
       "49997  I saw 'Descent' last night at the Stockholm Fi...      0     None  \n",
       "49998  Some films that you pick up for a pound turn o...      0     None  \n",
       "49999  This is one of the dumbest films, I've ever se...      0     None  \n",
       "\n",
       "[50000 rows x 6 columns]"
      ]
     },
     "execution_count": 8,
     "metadata": {},
     "output_type": "execute_result"
    }
   ],
   "source": [
    "all_data"
   ]
  },
  {
   "cell_type": "code",
   "execution_count": 9,
   "metadata": {},
   "outputs": [],
   "source": [
    "test_data = all_data.loc[all_data[\"test_id\"].isin(test_ids), [\"id\", \"text\", \"label\"]]\n",
    "train_data = all_data.loc[~all_data[\"test_id\"].isin(test_ids), [\"id\",\"text\", \"label\"]]\n",
    "test_data.to_csv(DATA_DIR / \"imdb_test.csv\")\n",
    "train_data.to_csv(DATA_DIR / \"imdb_train.csv\")"
   ]
  },
  {
   "cell_type": "code",
   "execution_count": 11,
   "metadata": {},
   "outputs": [
    {
     "data": {
      "text/html": [
       "<div>\n",
       "<style scoped>\n",
       "    .dataframe tbody tr th:only-of-type {\n",
       "        vertical-align: middle;\n",
       "    }\n",
       "\n",
       "    .dataframe tbody tr th {\n",
       "        vertical-align: top;\n",
       "    }\n",
       "\n",
       "    .dataframe thead th {\n",
       "        text-align: right;\n",
       "    }\n",
       "</style>\n",
       "<table border=\"1\" class=\"dataframe\">\n",
       "  <thead>\n",
       "    <tr style=\"text-align: right;\">\n",
       "      <th></th>\n",
       "      <th>id</th>\n",
       "      <th>text</th>\n",
       "      <th>label</th>\n",
       "    </tr>\n",
       "  </thead>\n",
       "  <tbody>\n",
       "    <tr>\n",
       "      <th>66</th>\n",
       "      <td>1005_7</td>\n",
       "      <td>In this TV special Jon is the one who needs a ...</td>\n",
       "      <td>1</td>\n",
       "    </tr>\n",
       "    <tr>\n",
       "      <th>77</th>\n",
       "      <td>1006_8</td>\n",
       "      <td>[CONTAINS SPOILERS!!!]&lt;br /&gt;&lt;br /&gt; Garfield an...</td>\n",
       "      <td>1</td>\n",
       "    </tr>\n",
       "    <tr>\n",
       "      <th>88</th>\n",
       "      <td>1007_9</td>\n",
       "      <td>I am a huge fan of Harald Zwart, and I just kn...</td>\n",
       "      <td>1</td>\n",
       "    </tr>\n",
       "    <tr>\n",
       "      <th>99</th>\n",
       "      <td>1008_10</td>\n",
       "      <td>This was one of the few Norwegian movies I act...</td>\n",
       "      <td>1</td>\n",
       "    </tr>\n",
       "    <tr>\n",
       "      <th>110</th>\n",
       "      <td>1009_8</td>\n",
       "      <td>I hate football!! I hate football fans! I hate...</td>\n",
       "      <td>1</td>\n",
       "    </tr>\n",
       "    <tr>\n",
       "      <th>...</th>\n",
       "      <td>...</td>\n",
       "      <td>...</td>\n",
       "      <td>...</td>\n",
       "    </tr>\n",
       "    <tr>\n",
       "      <th>24992</th>\n",
       "      <td>9995_2</td>\n",
       "      <td>many people said this was a great movie with H...</td>\n",
       "      <td>0</td>\n",
       "    </tr>\n",
       "    <tr>\n",
       "      <th>24993</th>\n",
       "      <td>9996_2</td>\n",
       "      <td>This is one dreary, inert, self-important bore...</td>\n",
       "      <td>0</td>\n",
       "    </tr>\n",
       "    <tr>\n",
       "      <th>24994</th>\n",
       "      <td>9997_2</td>\n",
       "      <td>Awful, awful, awful times a hundred still does...</td>\n",
       "      <td>0</td>\n",
       "    </tr>\n",
       "    <tr>\n",
       "      <th>24995</th>\n",
       "      <td>9998_1</td>\n",
       "      <td>I occasionally let my kids watch this garbage ...</td>\n",
       "      <td>0</td>\n",
       "    </tr>\n",
       "    <tr>\n",
       "      <th>24996</th>\n",
       "      <td>9999_1</td>\n",
       "      <td>When all we have anymore is pretty much realit...</td>\n",
       "      <td>0</td>\n",
       "    </tr>\n",
       "  </tbody>\n",
       "</table>\n",
       "<p>4241 rows × 3 columns</p>\n",
       "</div>"
      ],
      "text/plain": [
       "            id                                               text  label\n",
       "66      1005_7  In this TV special Jon is the one who needs a ...      1\n",
       "77      1006_8  [CONTAINS SPOILERS!!!]<br /><br /> Garfield an...      1\n",
       "88      1007_9  I am a huge fan of Harald Zwart, and I just kn...      1\n",
       "99     1008_10  This was one of the few Norwegian movies I act...      1\n",
       "110     1009_8  I hate football!! I hate football fans! I hate...      1\n",
       "...        ...                                                ...    ...\n",
       "24992   9995_2  many people said this was a great movie with H...      0\n",
       "24993   9996_2  This is one dreary, inert, self-important bore...      0\n",
       "24994   9997_2  Awful, awful, awful times a hundred still does...      0\n",
       "24995   9998_1  I occasionally let my kids watch this garbage ...      0\n",
       "24996   9999_1  When all we have anymore is pretty much realit...      0\n",
       "\n",
       "[4241 rows x 3 columns]"
      ]
     },
     "execution_count": 11,
     "metadata": {},
     "output_type": "execute_result"
    }
   ],
   "source": [
    "test_data"
   ]
  },
  {
   "cell_type": "markdown",
   "metadata": {},
   "source": [
    "## Checking data quality"
   ]
  },
  {
   "cell_type": "code",
   "execution_count": 69,
   "metadata": {},
   "outputs": [
    {
     "name": "stdout",
     "output_type": "stream",
     "text": [
      "longest review is 2470 words\n",
      "docs too long for BERT: 3694\n",
      "docs too long for Longformer: 0\n"
     ]
    },
    {
     "data": {
      "image/png": "[encoded data removed]",
      "text/plain": [
       "<Figure size 432x288 with 1 Axes>"
      ]
     },
     "metadata": {
      "needs_background": "light"
     },
     "output_type": "display_data"
    }
   ],
   "source": [
    "def get_num_tokens(text_series: pd.Series) -> pd.Series:\n",
    "    return text_series.str.split().apply(len)\n",
    "\n",
    "\n",
    "def rows_longer_than(text_series: pd.Series, cutoff=int) -> int:\n",
    "    return (get_num_tokens(text_series) > cutoff).sum()\n",
    "\n",
    "# Review length\n",
    "token_length = get_num_tokens(all_data[\"text\"])\n",
    "token_length.plot.hist()\n",
    "print(f\"longest review is {token_length.max()} words\")\n",
    "print(f\"docs too long for BERT: {(token_length > 512).sum()}\")\n",
    "print(f\"docs too long for Longformer: {(token_length > 4096).sum()}\")\n",
    "\n"
   ]
  },
  {
   "cell_type": "markdown",
   "metadata": {},
   "source": [
    "## Length notes\n",
    "It seems that most reviews are relatively short with a few quite long ones. It seems, however, that a longformer should be able to deal with them rather nicely, if the token mappings are approximately right. "
   ]
  }
 ],
 "metadata": {
  "interpreter": {
   "hash": "d6f86e4359b2b5cf5d398b363c816bb50d8f4fd2c9e9291492e7c9219700f63c"
  },
  "kernelspec": {
   "display_name": "Python 3.8.12 64-bit ('bertopic_explore': conda)",
   "language": "python",
   "name": "python3"
  },
  "language_info": {
   "codemirror_mode": {
    "name": "ipython",
    "version": 3
   },
   "file_extension": ".py",
   "mimetype": "text/x-python",
   "name": "python",
   "nbconvert_exporter": "python",
   "pygments_lexer": "ipython3",
   "version": "3.8.12"
  },
  "orig_nbformat": 4
 },
 "nbformat": 4,
 "nbformat_minor": 2
}
